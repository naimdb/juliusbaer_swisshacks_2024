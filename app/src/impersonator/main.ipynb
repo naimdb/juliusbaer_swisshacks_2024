{
 "cells": [
  {
   "cell_type": "code",
   "execution_count": 32,
   "metadata": {},
   "outputs": [
    {
     "name": "stderr",
     "output_type": "stream",
     "text": [
      "WARNING:root:frame length (1200) is greater than FFT size (512), frame will be truncated. Increase NFFT to avoid.\n",
      "WARNING:root:frame length (1200) is greater than FFT size (512), frame will be truncated. Increase NFFT to avoid.\n",
      "WARNING:root:frame length (1200) is greater than FFT size (512), frame will be truncated. Increase NFFT to avoid.\n",
      "WARNING:root:frame length (1200) is greater than FFT size (512), frame will be truncated. Increase NFFT to avoid.\n",
      "WARNING:root:frame length (1200) is greater than FFT size (512), frame will be truncated. Increase NFFT to avoid.\n",
      "WARNING:root:frame length (1200) is greater than FFT size (512), frame will be truncated. Increase NFFT to avoid.\n",
      "WARNING:root:frame length (1200) is greater than FFT size (512), frame will be truncated. Increase NFFT to avoid.\n",
      "WARNING:root:frame length (1200) is greater than FFT size (512), frame will be truncated. Increase NFFT to avoid.\n",
      "WARNING:root:frame length (1200) is greater than FFT size (512), frame will be truncated. Increase NFFT to avoid.\n",
      "WARNING:root:frame length (1200) is greater than FFT size (512), frame will be truncated. Increase NFFT to avoid.\n",
      "WARNING:root:frame length (1200) is greater than FFT size (512), frame will be truncated. Increase NFFT to avoid.\n",
      "WARNING:root:frame length (1200) is greater than FFT size (512), frame will be truncated. Increase NFFT to avoid.\n",
      "WARNING:root:frame length (1200) is greater than FFT size (512), frame will be truncated. Increase NFFT to avoid.\n",
      "WARNING:root:frame length (1200) is greater than FFT size (512), frame will be truncated. Increase NFFT to avoid.\n",
      "WARNING:root:frame length (600) is greater than FFT size (512), frame will be truncated. Increase NFFT to avoid.\n",
      "WARNING:root:frame length (1200) is greater than FFT size (512), frame will be truncated. Increase NFFT to avoid.\n",
      "WARNING:root:frame length (1200) is greater than FFT size (512), frame will be truncated. Increase NFFT to avoid.\n",
      "WARNING:root:frame length (1200) is greater than FFT size (512), frame will be truncated. Increase NFFT to avoid.\n",
      "WARNING:root:frame length (1200) is greater than FFT size (512), frame will be truncated. Increase NFFT to avoid.\n",
      "WARNING:root:frame length (1200) is greater than FFT size (512), frame will be truncated. Increase NFFT to avoid.\n",
      "WARNING:root:frame length (1103) is greater than FFT size (512), frame will be truncated. Increase NFFT to avoid.\n",
      "WARNING:root:frame length (1103) is greater than FFT size (512), frame will be truncated. Increase NFFT to avoid.\n"
     ]
    },
    {
     "name": "stdout",
     "output_type": "stream",
     "text": [
      "-76.60868006967293\n",
      "-94.17680896268458\n",
      "-92.11631950833596\n",
      "-76.84557114970181\n"
     ]
    },
    {
     "name": "stderr",
     "output_type": "stream",
     "text": [
      "WARNING:root:frame length (1103) is greater than FFT size (512), frame will be truncated. Increase NFFT to avoid.\n",
      "WARNING:root:frame length (1103) is greater than FFT size (512), frame will be truncated. Increase NFFT to avoid.\n",
      "WARNING:root:frame length (1200) is greater than FFT size (512), frame will be truncated. Increase NFFT to avoid.\n",
      "WARNING:root:frame length (1103) is greater than FFT size (512), frame will be truncated. Increase NFFT to avoid.\n"
     ]
    },
    {
     "name": "stdout",
     "output_type": "stream",
     "text": [
      "-92.37052712377714\n",
      "-93.7435744485612\n",
      "-74.5080388904029\n"
     ]
    },
    {
     "name": "stderr",
     "output_type": "stream",
     "text": [
      "WARNING:root:frame length (1103) is greater than FFT size (512), frame will be truncated. Increase NFFT to avoid.\n",
      "WARNING:root:frame length (1103) is greater than FFT size (512), frame will be truncated. Increase NFFT to avoid.\n",
      "WARNING:root:frame length (1103) is greater than FFT size (512), frame will be truncated. Increase NFFT to avoid.\n"
     ]
    },
    {
     "name": "stdout",
     "output_type": "stream",
     "text": [
      "-96.12396602916395\n",
      "-97.58004989663898\n",
      "-90.7260028118405\n"
     ]
    },
    {
     "name": "stderr",
     "output_type": "stream",
     "text": [
      "WARNING:root:frame length (1200) is greater than FFT size (512), frame will be truncated. Increase NFFT to avoid.\n"
     ]
    },
    {
     "name": "stdout",
     "output_type": "stream",
     "text": [
      "-97.47884025633356\n"
     ]
    },
    {
     "name": "stderr",
     "output_type": "stream",
     "text": [
      "WARNING:root:frame length (1103) is greater than FFT size (512), frame will be truncated. Increase NFFT to avoid.\n",
      "WARNING:root:frame length (1200) is greater than FFT size (512), frame will be truncated. Increase NFFT to avoid.\n"
     ]
    },
    {
     "name": "stdout",
     "output_type": "stream",
     "text": [
      "-75.0940895797581\n",
      "-88.68946330182278\n"
     ]
    },
    {
     "name": "stderr",
     "output_type": "stream",
     "text": [
      "WARNING:root:frame length (1103) is greater than FFT size (512), frame will be truncated. Increase NFFT to avoid.\n",
      "WARNING:root:frame length (1200) is greater than FFT size (512), frame will be truncated. Increase NFFT to avoid.\n"
     ]
    },
    {
     "name": "stdout",
     "output_type": "stream",
     "text": [
      "-69.72851039756225\n",
      "-97.47492869415544\n"
     ]
    },
    {
     "name": "stderr",
     "output_type": "stream",
     "text": [
      "WARNING:root:frame length (1200) is greater than FFT size (512), frame will be truncated. Increase NFFT to avoid.\n",
      "WARNING:root:frame length (1103) is greater than FFT size (512), frame will be truncated. Increase NFFT to avoid.\n"
     ]
    },
    {
     "name": "stdout",
     "output_type": "stream",
     "text": [
      "-78.35893814272445\n",
      "-72.88192420692748\n",
      "-93.55544423906704\n"
     ]
    },
    {
     "name": "stderr",
     "output_type": "stream",
     "text": [
      "WARNING:root:frame length (1103) is greater than FFT size (512), frame will be truncated. Increase NFFT to avoid.\n",
      "WARNING:root:frame length (1103) is greater than FFT size (512), frame will be truncated. Increase NFFT to avoid.\n",
      "WARNING:root:frame length (1103) is greater than FFT size (512), frame will be truncated. Increase NFFT to avoid.\n"
     ]
    },
    {
     "name": "stdout",
     "output_type": "stream",
     "text": [
      "-92.72885652846594\n",
      "-90.47447535720573\n"
     ]
    },
    {
     "name": "stderr",
     "output_type": "stream",
     "text": [
      "WARNING:root:frame length (1200) is greater than FFT size (512), frame will be truncated. Increase NFFT to avoid.\n",
      "WARNING:root:frame length (1103) is greater than FFT size (512), frame will be truncated. Increase NFFT to avoid.\n"
     ]
    },
    {
     "name": "stdout",
     "output_type": "stream",
     "text": [
      "-92.1844355021016\n",
      "-78.53250895984566\n",
      "-91.53385073127492\n"
     ]
    },
    {
     "name": "stderr",
     "output_type": "stream",
     "text": [
      "WARNING:root:frame length (1200) is greater than FFT size (512), frame will be truncated. Increase NFFT to avoid.\n",
      "WARNING:root:frame length (1103) is greater than FFT size (512), frame will be truncated. Increase NFFT to avoid.\n"
     ]
    },
    {
     "name": "stdout",
     "output_type": "stream",
     "text": [
      "-79.03269634841955\n",
      "-91.02746023928562\n"
     ]
    },
    {
     "name": "stderr",
     "output_type": "stream",
     "text": [
      "WARNING:root:frame length (1200) is greater than FFT size (512), frame will be truncated. Increase NFFT to avoid.\n",
      "WARNING:root:frame length (1103) is greater than FFT size (512), frame will be truncated. Increase NFFT to avoid.\n",
      "WARNING:root:frame length (1200) is greater than FFT size (512), frame will be truncated. Increase NFFT to avoid.\n"
     ]
    },
    {
     "name": "stdout",
     "output_type": "stream",
     "text": [
      "-74.73948410428855\n",
      "-93.30435371540503\n",
      "-75.98492992388546\n"
     ]
    },
    {
     "name": "stderr",
     "output_type": "stream",
     "text": [
      "WARNING:root:frame length (1103) is greater than FFT size (512), frame will be truncated. Increase NFFT to avoid.\n",
      "WARNING:root:frame length (1200) is greater than FFT size (512), frame will be truncated. Increase NFFT to avoid.\n"
     ]
    },
    {
     "name": "stdout",
     "output_type": "stream",
     "text": [
      "-87.12812466969677\n",
      "-76.91257566339362\n"
     ]
    },
    {
     "name": "stderr",
     "output_type": "stream",
     "text": [
      "WARNING:root:frame length (1200) is greater than FFT size (512), frame will be truncated. Increase NFFT to avoid.\n",
      "WARNING:root:frame length (1200) is greater than FFT size (512), frame will be truncated. Increase NFFT to avoid.\n",
      "WARNING:root:frame length (1103) is greater than FFT size (512), frame will be truncated. Increase NFFT to avoid.\n"
     ]
    },
    {
     "name": "stdout",
     "output_type": "stream",
     "text": [
      "-75.87678583392776\n",
      "-75.08268428175917\n",
      "-91.52652973864106\n"
     ]
    },
    {
     "name": "stderr",
     "output_type": "stream",
     "text": [
      "WARNING:root:frame length (1103) is greater than FFT size (512), frame will be truncated. Increase NFFT to avoid.\n",
      "WARNING:root:frame length (1103) is greater than FFT size (512), frame will be truncated. Increase NFFT to avoid.\n",
      "WARNING:root:frame length (1103) is greater than FFT size (512), frame will be truncated. Increase NFFT to avoid.\n"
     ]
    },
    {
     "name": "stdout",
     "output_type": "stream",
     "text": [
      "-93.31367843662038\n",
      "-92.05520118867348\n",
      "-91.63949537926071\n"
     ]
    },
    {
     "name": "stderr",
     "output_type": "stream",
     "text": [
      "WARNING:root:frame length (1103) is greater than FFT size (512), frame will be truncated. Increase NFFT to avoid.\n",
      "WARNING:root:frame length (1200) is greater than FFT size (512), frame will be truncated. Increase NFFT to avoid.\n"
     ]
    },
    {
     "name": "stdout",
     "output_type": "stream",
     "text": [
      "-103.88247857132198\n",
      "-78.49910434836173\n"
     ]
    },
    {
     "name": "stderr",
     "output_type": "stream",
     "text": [
      "WARNING:root:frame length (1103) is greater than FFT size (512), frame will be truncated. Increase NFFT to avoid.\n",
      "WARNING:root:frame length (1103) is greater than FFT size (512), frame will be truncated. Increase NFFT to avoid.\n",
      "WARNING:root:frame length (1200) is greater than FFT size (512), frame will be truncated. Increase NFFT to avoid.\n",
      "WARNING:root:frame length (1103) is greater than FFT size (512), frame will be truncated. Increase NFFT to avoid.\n"
     ]
    },
    {
     "name": "stdout",
     "output_type": "stream",
     "text": [
      "-93.05433052487965\n",
      "-97.0320479505846\n",
      "-71.74630394687645\n"
     ]
    },
    {
     "name": "stderr",
     "output_type": "stream",
     "text": [
      "WARNING:root:frame length (1200) is greater than FFT size (512), frame will be truncated. Increase NFFT to avoid.\n",
      "WARNING:root:frame length (1103) is greater than FFT size (512), frame will be truncated. Increase NFFT to avoid.\n"
     ]
    },
    {
     "name": "stdout",
     "output_type": "stream",
     "text": [
      "-91.31910886800007\n",
      "-77.2593289749819\n",
      "-92.1755596014993\n"
     ]
    },
    {
     "name": "stderr",
     "output_type": "stream",
     "text": [
      "WARNING:root:frame length (1103) is greater than FFT size (512), frame will be truncated. Increase NFFT to avoid.\n",
      "WARNING:root:frame length (1200) is greater than FFT size (512), frame will be truncated. Increase NFFT to avoid.\n"
     ]
    },
    {
     "name": "stdout",
     "output_type": "stream",
     "text": [
      "-103.67752448885328\n"
     ]
    },
    {
     "name": "stderr",
     "output_type": "stream",
     "text": [
      "WARNING:root:frame length (1103) is greater than FFT size (512), frame will be truncated. Increase NFFT to avoid.\n"
     ]
    },
    {
     "name": "stdout",
     "output_type": "stream",
     "text": [
      "-76.909169532846\n",
      "-89.61623606671667\n"
     ]
    },
    {
     "name": "stderr",
     "output_type": "stream",
     "text": [
      "WARNING:root:frame length (1103) is greater than FFT size (512), frame will be truncated. Increase NFFT to avoid.\n",
      "WARNING:root:frame length (1103) is greater than FFT size (512), frame will be truncated. Increase NFFT to avoid.\n",
      "WARNING:root:frame length (1103) is greater than FFT size (512), frame will be truncated. Increase NFFT to avoid.\n"
     ]
    },
    {
     "name": "stdout",
     "output_type": "stream",
     "text": [
      "-89.0820011635636\n",
      "-94.84053450320961\n",
      "-90.24058301955688\n"
     ]
    },
    {
     "name": "stderr",
     "output_type": "stream",
     "text": [
      "WARNING:root:frame length (1200) is greater than FFT size (512), frame will be truncated. Increase NFFT to avoid.\n",
      "WARNING:root:frame length (1103) is greater than FFT size (512), frame will be truncated. Increase NFFT to avoid.\n",
      "WARNING:root:frame length (1200) is greater than FFT size (512), frame will be truncated. Increase NFFT to avoid.\n"
     ]
    },
    {
     "name": "stdout",
     "output_type": "stream",
     "text": [
      "-82.58330611779533\n",
      "-97.29640395099469\n"
     ]
    },
    {
     "name": "stderr",
     "output_type": "stream",
     "text": [
      "WARNING:root:frame length (1103) is greater than FFT size (512), frame will be truncated. Increase NFFT to avoid.\n",
      "WARNING:root:frame length (1103) is greater than FFT size (512), frame will be truncated. Increase NFFT to avoid.\n"
     ]
    },
    {
     "name": "stdout",
     "output_type": "stream",
     "text": [
      "-72.53475692679342\n",
      "-93.01055149086552\n",
      "-93.86549088651425\n"
     ]
    },
    {
     "name": "stderr",
     "output_type": "stream",
     "text": [
      "WARNING:root:frame length (1103) is greater than FFT size (512), frame will be truncated. Increase NFFT to avoid.\n",
      "WARNING:root:frame length (1200) is greater than FFT size (512), frame will be truncated. Increase NFFT to avoid.\n",
      "WARNING:root:frame length (1200) is greater than FFT size (512), frame will be truncated. Increase NFFT to avoid.\n"
     ]
    },
    {
     "name": "stdout",
     "output_type": "stream",
     "text": [
      "-91.12082748690035\n",
      "-80.2955382924744\n"
     ]
    },
    {
     "name": "stderr",
     "output_type": "stream",
     "text": [
      "WARNING:root:frame length (1103) is greater than FFT size (512), frame will be truncated. Increase NFFT to avoid.\n",
      "WARNING:root:frame length (1200) is greater than FFT size (512), frame will be truncated. Increase NFFT to avoid.\n",
      "WARNING:root:frame length (1103) is greater than FFT size (512), frame will be truncated. Increase NFFT to avoid.\n"
     ]
    },
    {
     "name": "stdout",
     "output_type": "stream",
     "text": [
      "-78.88781209172352\n",
      "-97.74331390281893\n",
      "-77.71393876354233\n"
     ]
    },
    {
     "name": "stderr",
     "output_type": "stream",
     "text": [
      "WARNING:root:frame length (1200) is greater than FFT size (512), frame will be truncated. Increase NFFT to avoid.\n"
     ]
    },
    {
     "name": "stdout",
     "output_type": "stream",
     "text": [
      "-88.33297557896111\n",
      "-75.44899798889423\n"
     ]
    },
    {
     "name": "stderr",
     "output_type": "stream",
     "text": [
      "WARNING:root:frame length (1200) is greater than FFT size (512), frame will be truncated. Increase NFFT to avoid.\n",
      "WARNING:root:frame length (1200) is greater than FFT size (512), frame will be truncated. Increase NFFT to avoid.\n",
      "WARNING:root:frame length (1200) is greater than FFT size (512), frame will be truncated. Increase NFFT to avoid.\n"
     ]
    },
    {
     "name": "stdout",
     "output_type": "stream",
     "text": [
      "-78.33145869101976\n",
      "-73.87492516756514\n",
      "-76.13641473995992\n"
     ]
    },
    {
     "name": "stderr",
     "output_type": "stream",
     "text": [
      "WARNING:root:frame length (1103) is greater than FFT size (512), frame will be truncated. Increase NFFT to avoid.\n",
      "WARNING:root:frame length (1103) is greater than FFT size (512), frame will be truncated. Increase NFFT to avoid.\n",
      "WARNING:root:frame length (1103) is greater than FFT size (512), frame will be truncated. Increase NFFT to avoid.\n",
      "WARNING:root:frame length (1200) is greater than FFT size (512), frame will be truncated. Increase NFFT to avoid.\n"
     ]
    },
    {
     "name": "stdout",
     "output_type": "stream",
     "text": [
      "-92.42264448242553\n",
      "-95.7110915902648\n",
      "-99.14549821127758\n",
      "-73.38522455947277\n"
     ]
    },
    {
     "name": "stderr",
     "output_type": "stream",
     "text": [
      "WARNING:root:frame length (1103) is greater than FFT size (512), frame will be truncated. Increase NFFT to avoid.\n",
      "WARNING:root:frame length (1200) is greater than FFT size (512), frame will be truncated. Increase NFFT to avoid.\n",
      "WARNING:root:frame length (1200) is greater than FFT size (512), frame will be truncated. Increase NFFT to avoid.\n",
      "WARNING:root:frame length (1200) is greater than FFT size (512), frame will be truncated. Increase NFFT to avoid.\n"
     ]
    },
    {
     "name": "stdout",
     "output_type": "stream",
     "text": [
      "-91.61875339092165\n",
      "-82.24577098410577\n",
      "-75.61491030563408\n"
     ]
    },
    {
     "name": "stderr",
     "output_type": "stream",
     "text": [
      "WARNING:root:frame length (1103) is greater than FFT size (512), frame will be truncated. Increase NFFT to avoid.\n",
      "WARNING:root:frame length (1200) is greater than FFT size (512), frame will be truncated. Increase NFFT to avoid.\n"
     ]
    },
    {
     "name": "stdout",
     "output_type": "stream",
     "text": [
      "-74.44139870394702\n",
      "-93.47138304063031\n"
     ]
    },
    {
     "name": "stderr",
     "output_type": "stream",
     "text": [
      "WARNING:root:frame length (1103) is greater than FFT size (512), frame will be truncated. Increase NFFT to avoid.\n",
      "WARNING:root:frame length (1103) is greater than FFT size (512), frame will be truncated. Increase NFFT to avoid.\n"
     ]
    },
    {
     "name": "stdout",
     "output_type": "stream",
     "text": [
      "-75.59801193672358\n",
      "-90.40463593497678\n",
      "-90.80761609034944\n"
     ]
    },
    {
     "name": "stderr",
     "output_type": "stream",
     "text": [
      "WARNING:root:frame length (1103) is greater than FFT size (512), frame will be truncated. Increase NFFT to avoid.\n",
      "WARNING:root:frame length (1103) is greater than FFT size (512), frame will be truncated. Increase NFFT to avoid.\n",
      "WARNING:root:frame length (1200) is greater than FFT size (512), frame will be truncated. Increase NFFT to avoid.\n"
     ]
    },
    {
     "name": "stdout",
     "output_type": "stream",
     "text": [
      "-90.4981267263744\n",
      "-88.59757901178865\n"
     ]
    },
    {
     "name": "stderr",
     "output_type": "stream",
     "text": [
      "WARNING:root:frame length (1200) is greater than FFT size (512), frame will be truncated. Increase NFFT to avoid.\n"
     ]
    },
    {
     "name": "stdout",
     "output_type": "stream",
     "text": [
      "-71.8915846501556\n",
      "-76.75332745877472\n"
     ]
    },
    {
     "name": "stderr",
     "output_type": "stream",
     "text": [
      "WARNING:root:frame length (1200) is greater than FFT size (512), frame will be truncated. Increase NFFT to avoid.\n",
      "WARNING:root:frame length (1200) is greater than FFT size (512), frame will be truncated. Increase NFFT to avoid.\n",
      "WARNING:root:frame length (1200) is greater than FFT size (512), frame will be truncated. Increase NFFT to avoid.\n"
     ]
    },
    {
     "name": "stdout",
     "output_type": "stream",
     "text": [
      "-76.82731022228063\n",
      "-81.94703453064086\n",
      "-75.75593798332072\n"
     ]
    },
    {
     "name": "stderr",
     "output_type": "stream",
     "text": [
      "WARNING:root:frame length (1103) is greater than FFT size (512), frame will be truncated. Increase NFFT to avoid.\n",
      "WARNING:root:frame length (600) is greater than FFT size (512), frame will be truncated. Increase NFFT to avoid.\n",
      "WARNING:root:frame length (1103) is greater than FFT size (512), frame will be truncated. Increase NFFT to avoid.\n"
     ]
    },
    {
     "name": "stdout",
     "output_type": "stream",
     "text": [
      "-95.19050722990883\n",
      "-74.9909545877773\n"
     ]
    },
    {
     "name": "stderr",
     "output_type": "stream",
     "text": [
      "WARNING:root:frame length (600) is greater than FFT size (512), frame will be truncated. Increase NFFT to avoid.\n"
     ]
    },
    {
     "name": "stdout",
     "output_type": "stream",
     "text": [
      "-101.20731969895535\n"
     ]
    },
    {
     "name": "stderr",
     "output_type": "stream",
     "text": [
      "WARNING:root:frame length (1103) is greater than FFT size (512), frame will be truncated. Increase NFFT to avoid.\n",
      "WARNING:root:frame length (1200) is greater than FFT size (512), frame will be truncated. Increase NFFT to avoid.\n"
     ]
    },
    {
     "name": "stdout",
     "output_type": "stream",
     "text": [
      "-76.992513847766\n",
      "-92.34586865094849\n"
     ]
    },
    {
     "name": "stderr",
     "output_type": "stream",
     "text": [
      "WARNING:root:frame length (1200) is greater than FFT size (512), frame will be truncated. Increase NFFT to avoid.\n",
      "WARNING:root:frame length (1103) is greater than FFT size (512), frame will be truncated. Increase NFFT to avoid.\n"
     ]
    },
    {
     "name": "stdout",
     "output_type": "stream",
     "text": [
      "-82.06752252276237\n",
      "-79.26085512158265\n",
      "-97.3084793119834\n"
     ]
    },
    {
     "name": "stderr",
     "output_type": "stream",
     "text": [
      "WARNING:root:frame length (1200) is greater than FFT size (512), frame will be truncated. Increase NFFT to avoid.\n"
     ]
    },
    {
     "name": "stdout",
     "output_type": "stream",
     "text": [
      "-77.48979641815316\n",
      "-74.59161524211983\n"
     ]
    },
    {
     "name": "stderr",
     "output_type": "stream",
     "text": [
      "WARNING:root:frame length (1200) is greater than FFT size (512), frame will be truncated. Increase NFFT to avoid.\n",
      "WARNING:root:frame length (1103) is greater than FFT size (512), frame will be truncated. Increase NFFT to avoid.\n",
      "WARNING:root:frame length (1103) is greater than FFT size (512), frame will be truncated. Increase NFFT to avoid.\n",
      "WARNING:root:frame length (1200) is greater than FFT size (512), frame will be truncated. Increase NFFT to avoid.\n"
     ]
    },
    {
     "name": "stdout",
     "output_type": "stream",
     "text": [
      "-73.5489415123387\n",
      "-87.22348761265596\n",
      "-93.66325184180326\n"
     ]
    },
    {
     "name": "stderr",
     "output_type": "stream",
     "text": [
      "WARNING:root:frame length (1200) is greater than FFT size (512), frame will be truncated. Increase NFFT to avoid.\n",
      "WARNING:root:frame length (1103) is greater than FFT size (512), frame will be truncated. Increase NFFT to avoid.\n"
     ]
    },
    {
     "name": "stdout",
     "output_type": "stream",
     "text": [
      "-78.65407168287695\n",
      "-76.94426024350827\n",
      "-94.08582099449586\n"
     ]
    },
    {
     "name": "stderr",
     "output_type": "stream",
     "text": [
      "WARNING:root:frame length (1200) is greater than FFT size (512), frame will be truncated. Increase NFFT to avoid.\n",
      "WARNING:root:frame length (1200) is greater than FFT size (512), frame will be truncated. Increase NFFT to avoid.\n"
     ]
    },
    {
     "name": "stdout",
     "output_type": "stream",
     "text": [
      "-77.10616239006048\n",
      "-76.57802607296419\n"
     ]
    },
    {
     "name": "stderr",
     "output_type": "stream",
     "text": [
      "WARNING:root:frame length (1200) is greater than FFT size (512), frame will be truncated. Increase NFFT to avoid.\n",
      "WARNING:root:frame length (1103) is greater than FFT size (512), frame will be truncated. Increase NFFT to avoid.\n",
      "WARNING:root:frame length (1200) is greater than FFT size (512), frame will be truncated. Increase NFFT to avoid.\n"
     ]
    },
    {
     "name": "stdout",
     "output_type": "stream",
     "text": [
      "-78.67603287975598\n",
      "-94.11518129940116\n",
      "-80.12695366315482\n"
     ]
    },
    {
     "name": "stderr",
     "output_type": "stream",
     "text": [
      "WARNING:root:frame length (1103) is greater than FFT size (512), frame will be truncated. Increase NFFT to avoid.\n",
      "WARNING:root:frame length (1200) is greater than FFT size (512), frame will be truncated. Increase NFFT to avoid.\n",
      "WARNING:root:frame length (1103) is greater than FFT size (512), frame will be truncated. Increase NFFT to avoid.\n"
     ]
    },
    {
     "name": "stdout",
     "output_type": "stream",
     "text": [
      "-92.59033369206003\n",
      "-77.66720533362434\n"
     ]
    },
    {
     "name": "stderr",
     "output_type": "stream",
     "text": [
      "WARNING:root:frame length (1103) is greater than FFT size (512), frame will be truncated. Increase NFFT to avoid.\n",
      "WARNING:root:frame length (1103) is greater than FFT size (512), frame will be truncated. Increase NFFT to avoid.\n",
      "WARNING:root:frame length (1103) is greater than FFT size (512), frame will be truncated. Increase NFFT to avoid.\n"
     ]
    },
    {
     "name": "stdout",
     "output_type": "stream",
     "text": [
      "-96.08199221802576\n",
      "-88.2211472446988\n",
      "-97.4022525284247\n"
     ]
    },
    {
     "name": "stderr",
     "output_type": "stream",
     "text": [
      "WARNING:root:frame length (1200) is greater than FFT size (512), frame will be truncated. Increase NFFT to avoid.\n",
      "WARNING:root:frame length (1103) is greater than FFT size (512), frame will be truncated. Increase NFFT to avoid.\n"
     ]
    },
    {
     "name": "stdout",
     "output_type": "stream",
     "text": [
      "-96.25061455601575\n",
      "-78.82564202997455\n"
     ]
    },
    {
     "name": "stderr",
     "output_type": "stream",
     "text": [
      "WARNING:root:frame length (1103) is greater than FFT size (512), frame will be truncated. Increase NFFT to avoid.\n"
     ]
    },
    {
     "name": "stdout",
     "output_type": "stream",
     "text": [
      "-92.97047525784004\n",
      "-89.65706413470909\n"
     ]
    },
    {
     "name": "stderr",
     "output_type": "stream",
     "text": [
      "WARNING:root:frame length (1103) is greater than FFT size (512), frame will be truncated. Increase NFFT to avoid.\n",
      "WARNING:root:frame length (1200) is greater than FFT size (512), frame will be truncated. Increase NFFT to avoid.\n"
     ]
    },
    {
     "name": "stdout",
     "output_type": "stream",
     "text": [
      "-92.56082745476527\n",
      "-76.65016055759001\n"
     ]
    },
    {
     "name": "stderr",
     "output_type": "stream",
     "text": [
      "WARNING:root:frame length (1200) is greater than FFT size (512), frame will be truncated. Increase NFFT to avoid.\n",
      "WARNING:root:frame length (1103) is greater than FFT size (512), frame will be truncated. Increase NFFT to avoid.\n"
     ]
    },
    {
     "name": "stdout",
     "output_type": "stream",
     "text": [
      "-78.13042965786332\n",
      "-80.07193342496487\n",
      "-78.74069975829849\n"
     ]
    },
    {
     "name": "stderr",
     "output_type": "stream",
     "text": [
      "WARNING:root:frame length (1200) is greater than FFT size (512), frame will be truncated. Increase NFFT to avoid.\n",
      "WARNING:root:frame length (1103) is greater than FFT size (512), frame will be truncated. Increase NFFT to avoid.\n"
     ]
    },
    {
     "name": "stdout",
     "output_type": "stream",
     "text": [
      "-92.54844352104163\n",
      "-80.96120483422958\n",
      "-88.47116099947992\n"
     ]
    },
    {
     "name": "stderr",
     "output_type": "stream",
     "text": [
      "WARNING:root:frame length (1200) is greater than FFT size (512), frame will be truncated. Increase NFFT to avoid.\n",
      "WARNING:root:frame length (1200) is greater than FFT size (512), frame will be truncated. Increase NFFT to avoid.\n",
      "WARNING:root:frame length (1200) is greater than FFT size (512), frame will be truncated. Increase NFFT to avoid.\n"
     ]
    },
    {
     "name": "stdout",
     "output_type": "stream",
     "text": [
      "-78.01928448921618\n",
      "-81.22617234773291\n"
     ]
    },
    {
     "name": "stderr",
     "output_type": "stream",
     "text": [
      "WARNING:root:frame length (1103) is greater than FFT size (512), frame will be truncated. Increase NFFT to avoid.\n",
      "WARNING:root:frame length (1200) is greater than FFT size (512), frame will be truncated. Increase NFFT to avoid.\n"
     ]
    },
    {
     "name": "stdout",
     "output_type": "stream",
     "text": [
      "-76.07262328631704\n",
      "-91.71351183489583\n"
     ]
    },
    {
     "name": "stderr",
     "output_type": "stream",
     "text": [
      "WARNING:root:frame length (1200) is greater than FFT size (512), frame will be truncated. Increase NFFT to avoid.\n",
      "WARNING:root:frame length (1103) is greater than FFT size (512), frame will be truncated. Increase NFFT to avoid.\n",
      "WARNING:root:frame length (1103) is greater than FFT size (512), frame will be truncated. Increase NFFT to avoid.\n"
     ]
    },
    {
     "name": "stdout",
     "output_type": "stream",
     "text": [
      "-76.09327566347159\n",
      "-80.18719160844954\n",
      "-92.95442543401298\n"
     ]
    },
    {
     "name": "stderr",
     "output_type": "stream",
     "text": [
      "WARNING:root:frame length (1200) is greater than FFT size (512), frame will be truncated. Increase NFFT to avoid.\n"
     ]
    },
    {
     "name": "stdout",
     "output_type": "stream",
     "text": [
      "-96.53025718183838\n",
      "-79.93548536858914\n"
     ]
    },
    {
     "name": "stderr",
     "output_type": "stream",
     "text": [
      "WARNING:root:frame length (600) is greater than FFT size (512), frame will be truncated. Increase NFFT to avoid.\n",
      "WARNING:root:frame length (1103) is greater than FFT size (512), frame will be truncated. Increase NFFT to avoid.\n",
      "WARNING:root:frame length (1103) is greater than FFT size (512), frame will be truncated. Increase NFFT to avoid.\n",
      "WARNING:root:frame length (1200) is greater than FFT size (512), frame will be truncated. Increase NFFT to avoid.\n"
     ]
    },
    {
     "name": "stdout",
     "output_type": "stream",
     "text": [
      "-78.47792701963942\n",
      "-94.10472663034987\n",
      "-95.63783471334226\n"
     ]
    },
    {
     "name": "stderr",
     "output_type": "stream",
     "text": [
      "WARNING:root:frame length (1200) is greater than FFT size (512), frame will be truncated. Increase NFFT to avoid.\n"
     ]
    },
    {
     "name": "stdout",
     "output_type": "stream",
     "text": [
      "-74.74646519114467\n"
     ]
    },
    {
     "name": "stderr",
     "output_type": "stream",
     "text": [
      "WARNING:root:frame length (1200) is greater than FFT size (512), frame will be truncated. Increase NFFT to avoid.\n",
      "WARNING:root:frame length (1103) is greater than FFT size (512), frame will be truncated. Increase NFFT to avoid.\n"
     ]
    },
    {
     "name": "stdout",
     "output_type": "stream",
     "text": [
      "-71.86105074419156\n",
      "-75.96902492244665\n"
     ]
    },
    {
     "name": "stderr",
     "output_type": "stream",
     "text": [
      "WARNING:root:frame length (1103) is greater than FFT size (512), frame will be truncated. Increase NFFT to avoid.\n",
      "WARNING:root:frame length (1103) is greater than FFT size (512), frame will be truncated. Increase NFFT to avoid.\n"
     ]
    },
    {
     "name": "stdout",
     "output_type": "stream",
     "text": [
      "-91.59394414608686\n",
      "-91.4957417989457\n",
      "-98.9118977906762\n"
     ]
    },
    {
     "name": "stderr",
     "output_type": "stream",
     "text": [
      "WARNING:root:frame length (1200) is greater than FFT size (512), frame will be truncated. Increase NFFT to avoid.\n",
      "WARNING:root:frame length (1200) is greater than FFT size (512), frame will be truncated. Increase NFFT to avoid.\n"
     ]
    },
    {
     "name": "stdout",
     "output_type": "stream",
     "text": [
      "-73.60928051105417\n",
      "-78.42213936224417\n"
     ]
    },
    {
     "name": "stderr",
     "output_type": "stream",
     "text": [
      "WARNING:root:frame length (1103) is greater than FFT size (512), frame will be truncated. Increase NFFT to avoid.\n",
      "WARNING:root:frame length (1200) is greater than FFT size (512), frame will be truncated. Increase NFFT to avoid.\n",
      "WARNING:root:frame length (1103) is greater than FFT size (512), frame will be truncated. Increase NFFT to avoid.\n"
     ]
    },
    {
     "name": "stdout",
     "output_type": "stream",
     "text": [
      "-94.11898396190884\n",
      "-75.66790075923247\n"
     ]
    },
    {
     "name": "stderr",
     "output_type": "stream",
     "text": [
      "WARNING:root:frame length (1103) is greater than FFT size (512), frame will be truncated. Increase NFFT to avoid.\n",
      "WARNING:root:frame length (1200) is greater than FFT size (512), frame will be truncated. Increase NFFT to avoid.\n"
     ]
    },
    {
     "name": "stdout",
     "output_type": "stream",
     "text": [
      "-88.44175516953769\n",
      "-92.7429753755759\n"
     ]
    },
    {
     "name": "stderr",
     "output_type": "stream",
     "text": [
      "WARNING:root:frame length (1200) is greater than FFT size (512), frame will be truncated. Increase NFFT to avoid.\n",
      "WARNING:root:frame length (1200) is greater than FFT size (512), frame will be truncated. Increase NFFT to avoid.\n"
     ]
    },
    {
     "name": "stdout",
     "output_type": "stream",
     "text": [
      "-72.73553788532438\n",
      "-75.1101248514969\n"
     ]
    },
    {
     "name": "stderr",
     "output_type": "stream",
     "text": [
      "WARNING:root:frame length (1200) is greater than FFT size (512), frame will be truncated. Increase NFFT to avoid.\n"
     ]
    },
    {
     "name": "stdout",
     "output_type": "stream",
     "text": [
      "-78.60248627378175\n",
      "-78.72964910874924\n"
     ]
    },
    {
     "name": "stderr",
     "output_type": "stream",
     "text": [
      "WARNING:root:frame length (1200) is greater than FFT size (512), frame will be truncated. Increase NFFT to avoid.\n",
      "WARNING:root:frame length (1103) is greater than FFT size (512), frame will be truncated. Increase NFFT to avoid.\n",
      "WARNING:root:frame length (1103) is greater than FFT size (512), frame will be truncated. Increase NFFT to avoid.\n"
     ]
    },
    {
     "name": "stdout",
     "output_type": "stream",
     "text": [
      "-77.54052355384988\n",
      "-90.87421554179892\n",
      "-92.52667052155445\n"
     ]
    },
    {
     "name": "stderr",
     "output_type": "stream",
     "text": [
      "WARNING:root:frame length (1200) is greater than FFT size (512), frame will be truncated. Increase NFFT to avoid.\n",
      "WARNING:root:frame length (1103) is greater than FFT size (512), frame will be truncated. Increase NFFT to avoid.\n",
      "WARNING:root:frame length (1200) is greater than FFT size (512), frame will be truncated. Increase NFFT to avoid.\n",
      "WARNING:root:frame length (1103) is greater than FFT size (512), frame will be truncated. Increase NFFT to avoid.\n",
      "WARNING:root:frame length (1200) is greater than FFT size (512), frame will be truncated. Increase NFFT to avoid.\n"
     ]
    },
    {
     "name": "stdout",
     "output_type": "stream",
     "text": [
      "-78.80611998217996\n",
      "-97.05245173287156\n",
      "-74.83702707007684\n",
      "-87.20109936415366\n"
     ]
    },
    {
     "name": "stderr",
     "output_type": "stream",
     "text": [
      "WARNING:root:frame length (1103) is greater than FFT size (512), frame will be truncated. Increase NFFT to avoid.\n",
      "WARNING:root:frame length (1103) is greater than FFT size (512), frame will be truncated. Increase NFFT to avoid.\n"
     ]
    },
    {
     "name": "stdout",
     "output_type": "stream",
     "text": [
      "-74.53028797997422\n",
      "-91.04100299654343\n",
      "-90.9555578286974\n"
     ]
    },
    {
     "name": "stderr",
     "output_type": "stream",
     "text": [
      "WARNING:root:frame length (1200) is greater than FFT size (512), frame will be truncated. Increase NFFT to avoid.\n",
      "WARNING:root:frame length (1200) is greater than FFT size (512), frame will be truncated. Increase NFFT to avoid.\n",
      "WARNING:root:frame length (1103) is greater than FFT size (512), frame will be truncated. Increase NFFT to avoid.\n",
      "WARNING:root:frame length (1200) is greater than FFT size (512), frame will be truncated. Increase NFFT to avoid.\n"
     ]
    },
    {
     "name": "stdout",
     "output_type": "stream",
     "text": [
      "-75.32133572057798\n",
      "-81.949905203604\n",
      "-93.55821130749328\n",
      "-70.41243813543953\n"
     ]
    },
    {
     "name": "stderr",
     "output_type": "stream",
     "text": [
      "WARNING:root:frame length (1200) is greater than FFT size (512), frame will be truncated. Increase NFFT to avoid.\n",
      "WARNING:root:frame length (1103) is greater than FFT size (512), frame will be truncated. Increase NFFT to avoid.\n",
      "WARNING:root:frame length (1200) is greater than FFT size (512), frame will be truncated. Increase NFFT to avoid.\n"
     ]
    },
    {
     "name": "stdout",
     "output_type": "stream",
     "text": [
      "-76.77780918846612\n",
      "-92.69751909952896\n"
     ]
    },
    {
     "name": "stderr",
     "output_type": "stream",
     "text": [
      "WARNING:root:frame length (1200) is greater than FFT size (512), frame will be truncated. Increase NFFT to avoid.\n",
      "WARNING:root:frame length (1103) is greater than FFT size (512), frame will be truncated. Increase NFFT to avoid.\n"
     ]
    },
    {
     "name": "stdout",
     "output_type": "stream",
     "text": [
      "-78.35196590636886\n",
      "-76.80118529277506\n",
      "-93.37057336745158\n"
     ]
    },
    {
     "name": "stderr",
     "output_type": "stream",
     "text": [
      "WARNING:root:frame length (1103) is greater than FFT size (512), frame will be truncated. Increase NFFT to avoid.\n",
      "WARNING:root:frame length (1103) is greater than FFT size (512), frame will be truncated. Increase NFFT to avoid.\n",
      "WARNING:root:frame length (1200) is greater than FFT size (512), frame will be truncated. Increase NFFT to avoid.\n"
     ]
    },
    {
     "name": "stdout",
     "output_type": "stream",
     "text": [
      "-92.57966804014679\n",
      "-92.18736817789794\n"
     ]
    },
    {
     "name": "stderr",
     "output_type": "stream",
     "text": [
      "WARNING:root:frame length (1200) is greater than FFT size (512), frame will be truncated. Increase NFFT to avoid.\n",
      "WARNING:root:frame length (1103) is greater than FFT size (512), frame will be truncated. Increase NFFT to avoid.\n",
      "WARNING:root:frame length (600) is greater than FFT size (512), frame will be truncated. Increase NFFT to avoid.\n"
     ]
    },
    {
     "name": "stdout",
     "output_type": "stream",
     "text": [
      "-79.52662788666127\n",
      "-79.07068647410239\n",
      "-93.09081846087149\n"
     ]
    },
    {
     "name": "stderr",
     "output_type": "stream",
     "text": [
      "WARNING:root:frame length (1103) is greater than FFT size (512), frame will be truncated. Increase NFFT to avoid.\n",
      "WARNING:root:frame length (1200) is greater than FFT size (512), frame will be truncated. Increase NFFT to avoid.\n"
     ]
    },
    {
     "name": "stdout",
     "output_type": "stream",
     "text": [
      "-78.01165282629775\n",
      "-96.57057195886847\n",
      "-75.83703880909775\n"
     ]
    },
    {
     "name": "stderr",
     "output_type": "stream",
     "text": [
      "WARNING:root:frame length (600) is greater than FFT size (512), frame will be truncated. Increase NFFT to avoid.\n",
      "WARNING:root:frame length (1103) is greater than FFT size (512), frame will be truncated. Increase NFFT to avoid.\n",
      "WARNING:root:frame length (1103) is greater than FFT size (512), frame will be truncated. Increase NFFT to avoid.\n",
      "WARNING:root:frame length (1103) is greater than FFT size (512), frame will be truncated. Increase NFFT to avoid.\n"
     ]
    },
    {
     "name": "stdout",
     "output_type": "stream",
     "text": [
      "-78.18068756501863\n",
      "-81.90754176490181\n",
      "-94.05666872174666\n"
     ]
    },
    {
     "name": "stderr",
     "output_type": "stream",
     "text": [
      "WARNING:root:frame length (1103) is greater than FFT size (512), frame will be truncated. Increase NFFT to avoid.\n",
      "WARNING:root:frame length (1103) is greater than FFT size (512), frame will be truncated. Increase NFFT to avoid.\n",
      "WARNING:root:frame length (1200) is greater than FFT size (512), frame will be truncated. Increase NFFT to avoid.\n"
     ]
    },
    {
     "name": "stdout",
     "output_type": "stream",
     "text": [
      "-97.69292252713002\n",
      "-101.01828719430752\n",
      "-95.50026578488021\n"
     ]
    },
    {
     "name": "stderr",
     "output_type": "stream",
     "text": [
      "WARNING:root:frame length (1200) is greater than FFT size (512), frame will be truncated. Increase NFFT to avoid.\n",
      "WARNING:root:frame length (1103) is greater than FFT size (512), frame will be truncated. Increase NFFT to avoid.\n"
     ]
    },
    {
     "name": "stdout",
     "output_type": "stream",
     "text": [
      "-86.6865024563621\n",
      "-76.28921614247714\n",
      "-98.74760310454606\n"
     ]
    },
    {
     "name": "stderr",
     "output_type": "stream",
     "text": [
      "WARNING:root:frame length (1103) is greater than FFT size (512), frame will be truncated. Increase NFFT to avoid.\n",
      "WARNING:root:frame length (1200) is greater than FFT size (512), frame will be truncated. Increase NFFT to avoid.\n"
     ]
    },
    {
     "name": "stdout",
     "output_type": "stream",
     "text": [
      "-98.45845362645883\n",
      "-75.44759993776259\n"
     ]
    },
    {
     "name": "stderr",
     "output_type": "stream",
     "text": [
      "WARNING:root:frame length (1103) is greater than FFT size (512), frame will be truncated. Increase NFFT to avoid.\n",
      "WARNING:root:frame length (1103) is greater than FFT size (512), frame will be truncated. Increase NFFT to avoid.\n",
      "WARNING:root:frame length (1200) is greater than FFT size (512), frame will be truncated. Increase NFFT to avoid.\n"
     ]
    },
    {
     "name": "stdout",
     "output_type": "stream",
     "text": [
      "-94.75929517928918\n",
      "-91.64529533126678\n"
     ]
    },
    {
     "name": "stderr",
     "output_type": "stream",
     "text": [
      "WARNING:root:frame length (1103) is greater than FFT size (512), frame will be truncated. Increase NFFT to avoid.\n",
      "WARNING:root:frame length (1103) is greater than FFT size (512), frame will be truncated. Increase NFFT to avoid.\n",
      "WARNING:root:frame length (600) is greater than FFT size (512), frame will be truncated. Increase NFFT to avoid.\n"
     ]
    },
    {
     "name": "stdout",
     "output_type": "stream",
     "text": [
      "-75.30133058566561\n",
      "-82.75090706759599\n",
      "-91.40863989504047\n"
     ]
    },
    {
     "name": "stderr",
     "output_type": "stream",
     "text": [
      "WARNING:root:frame length (1200) is greater than FFT size (512), frame will be truncated. Increase NFFT to avoid.\n"
     ]
    },
    {
     "name": "stdout",
     "output_type": "stream",
     "text": [
      "-77.86849283047951\n"
     ]
    },
    {
     "name": "stderr",
     "output_type": "stream",
     "text": [
      "WARNING:root:frame length (1200) is greater than FFT size (512), frame will be truncated. Increase NFFT to avoid.\n",
      "WARNING:root:frame length (1200) is greater than FFT size (512), frame will be truncated. Increase NFFT to avoid.\n"
     ]
    },
    {
     "name": "stdout",
     "output_type": "stream",
     "text": [
      "-78.68454747370053\n",
      "-74.56282180114252\n",
      "-76.53779460356066\n"
     ]
    },
    {
     "name": "stderr",
     "output_type": "stream",
     "text": [
      "WARNING:root:frame length (1103) is greater than FFT size (512), frame will be truncated. Increase NFFT to avoid.\n",
      "WARNING:root:frame length (1200) is greater than FFT size (512), frame will be truncated. Increase NFFT to avoid.\n",
      "WARNING:root:frame length (1103) is greater than FFT size (512), frame will be truncated. Increase NFFT to avoid.\n"
     ]
    },
    {
     "name": "stdout",
     "output_type": "stream",
     "text": [
      "-86.50652515296042\n",
      "-74.98089641932086\n",
      "-82.76437133829924\n"
     ]
    },
    {
     "name": "stderr",
     "output_type": "stream",
     "text": [
      "WARNING:root:frame length (1103) is greater than FFT size (512), frame will be truncated. Increase NFFT to avoid.\n",
      "WARNING:root:frame length (1103) is greater than FFT size (512), frame will be truncated. Increase NFFT to avoid.\n",
      "WARNING:root:frame length (1103) is greater than FFT size (512), frame will be truncated. Increase NFFT to avoid.\n",
      "WARNING:root:frame length (1200) is greater than FFT size (512), frame will be truncated. Increase NFFT to avoid.\n"
     ]
    },
    {
     "name": "stdout",
     "output_type": "stream",
     "text": [
      "-86.38546812677785\n",
      "-92.49063890178455\n",
      "-92.41584474742751\n"
     ]
    },
    {
     "name": "stderr",
     "output_type": "stream",
     "text": [
      "WARNING:root:frame length (1103) is greater than FFT size (512), frame will be truncated. Increase NFFT to avoid.\n",
      "WARNING:root:frame length (1103) is greater than FFT size (512), frame will be truncated. Increase NFFT to avoid.\n"
     ]
    },
    {
     "name": "stdout",
     "output_type": "stream",
     "text": [
      "-75.09680102258864\n",
      "-83.94540302542298\n",
      "-78.0760033190834\n"
     ]
    },
    {
     "name": "stderr",
     "output_type": "stream",
     "text": [
      "WARNING:root:frame length (1103) is greater than FFT size (512), frame will be truncated. Increase NFFT to avoid.\n",
      "WARNING:root:frame length (1200) is greater than FFT size (512), frame will be truncated. Increase NFFT to avoid.\n",
      "WARNING:root:frame length (1103) is greater than FFT size (512), frame will be truncated. Increase NFFT to avoid.\n"
     ]
    },
    {
     "name": "stdout",
     "output_type": "stream",
     "text": [
      "-93.35165541763224\n",
      "-82.85347003592067\n",
      "-73.98300017503325\n"
     ]
    },
    {
     "name": "stderr",
     "output_type": "stream",
     "text": [
      "WARNING:root:frame length (1200) is greater than FFT size (512), frame will be truncated. Increase NFFT to avoid.\n",
      "WARNING:root:frame length (1103) is greater than FFT size (512), frame will be truncated. Increase NFFT to avoid.\n"
     ]
    },
    {
     "name": "stdout",
     "output_type": "stream",
     "text": [
      "-92.84155506552554\n",
      "-75.29186912483478\n"
     ]
    },
    {
     "name": "stderr",
     "output_type": "stream",
     "text": [
      "WARNING:root:frame length (1103) is greater than FFT size (512), frame will be truncated. Increase NFFT to avoid.\n",
      "WARNING:root:frame length (1200) is greater than FFT size (512), frame will be truncated. Increase NFFT to avoid.\n"
     ]
    },
    {
     "name": "stdout",
     "output_type": "stream",
     "text": [
      "-91.97994985910903\n",
      "-94.34570684250788\n"
     ]
    },
    {
     "name": "stderr",
     "output_type": "stream",
     "text": [
      "WARNING:root:frame length (1200) is greater than FFT size (512), frame will be truncated. Increase NFFT to avoid.\n",
      "WARNING:root:frame length (1200) is greater than FFT size (512), frame will be truncated. Increase NFFT to avoid.\n"
     ]
    },
    {
     "name": "stdout",
     "output_type": "stream",
     "text": [
      "-79.48301174724728\n",
      "-78.18676116455102\n"
     ]
    },
    {
     "name": "stderr",
     "output_type": "stream",
     "text": [
      "WARNING:root:frame length (1103) is greater than FFT size (512), frame will be truncated. Increase NFFT to avoid.\n",
      "WARNING:root:frame length (1200) is greater than FFT size (512), frame will be truncated. Increase NFFT to avoid.\n",
      "WARNING:root:frame length (1103) is greater than FFT size (512), frame will be truncated. Increase NFFT to avoid.\n"
     ]
    },
    {
     "name": "stdout",
     "output_type": "stream",
     "text": [
      "-79.64477920780041\n",
      "-92.45798603620726\n",
      "-75.05447923831265\n"
     ]
    },
    {
     "name": "stderr",
     "output_type": "stream",
     "text": [
      "WARNING:root:frame length (1103) is greater than FFT size (512), frame will be truncated. Increase NFFT to avoid.\n"
     ]
    },
    {
     "name": "stdout",
     "output_type": "stream",
     "text": [
      "-93.54768831938367\n"
     ]
    },
    {
     "name": "stderr",
     "output_type": "stream",
     "text": [
      "WARNING:root:frame length (1200) is greater than FFT size (512), frame will be truncated. Increase NFFT to avoid.\n",
      "WARNING:root:frame length (1103) is greater than FFT size (512), frame will be truncated. Increase NFFT to avoid.\n",
      "WARNING:root:frame length (1103) is greater than FFT size (512), frame will be truncated. Increase NFFT to avoid.\n"
     ]
    },
    {
     "name": "stdout",
     "output_type": "stream",
     "text": [
      "-89.94913401278177\n",
      "-76.62452762679135\n",
      "-98.27102938579132\n"
     ]
    },
    {
     "name": "stderr",
     "output_type": "stream",
     "text": [
      "WARNING:root:frame length (1103) is greater than FFT size (512), frame will be truncated. Increase NFFT to avoid.\n",
      "WARNING:root:frame length (1103) is greater than FFT size (512), frame will be truncated. Increase NFFT to avoid.\n"
     ]
    },
    {
     "name": "stdout",
     "output_type": "stream",
     "text": [
      "-90.98978248564377\n",
      "-88.30338474082075\n",
      "-97.01653910100944\n"
     ]
    },
    {
     "name": "stderr",
     "output_type": "stream",
     "text": [
      "WARNING:root:frame length (1200) is greater than FFT size (512), frame will be truncated. Increase NFFT to avoid.\n",
      "WARNING:root:frame length (1200) is greater than FFT size (512), frame will be truncated. Increase NFFT to avoid.\n",
      "WARNING:root:frame length (1103) is greater than FFT size (512), frame will be truncated. Increase NFFT to avoid.\n"
     ]
    },
    {
     "name": "stdout",
     "output_type": "stream",
     "text": [
      "-76.22791251348661\n",
      "-80.27022283947316\n"
     ]
    },
    {
     "name": "stderr",
     "output_type": "stream",
     "text": [
      "WARNING:root:frame length (1200) is greater than FFT size (512), frame will be truncated. Increase NFFT to avoid.\n"
     ]
    },
    {
     "name": "stdout",
     "output_type": "stream",
     "text": [
      "-91.08437336339554\n",
      "-72.53061495783628\n"
     ]
    },
    {
     "name": "stderr",
     "output_type": "stream",
     "text": [
      "WARNING:root:frame length (1200) is greater than FFT size (512), frame will be truncated. Increase NFFT to avoid.\n",
      "WARNING:root:frame length (1200) is greater than FFT size (512), frame will be truncated. Increase NFFT to avoid.\n",
      "WARNING:root:frame length (1103) is greater than FFT size (512), frame will be truncated. Increase NFFT to avoid.\n"
     ]
    },
    {
     "name": "stdout",
     "output_type": "stream",
     "text": [
      "-80.60079358777804\n",
      "-79.03971539376788\n"
     ]
    },
    {
     "name": "stderr",
     "output_type": "stream",
     "text": [
      "WARNING:root:frame length (1200) is greater than FFT size (512), frame will be truncated. Increase NFFT to avoid.\n",
      "WARNING:root:frame length (1200) is greater than FFT size (512), frame will be truncated. Increase NFFT to avoid.\n"
     ]
    },
    {
     "name": "stdout",
     "output_type": "stream",
     "text": [
      "-94.51355876239747\n",
      "-73.66442427876672\n"
     ]
    },
    {
     "name": "stderr",
     "output_type": "stream",
     "text": [
      "WARNING:root:frame length (1103) is greater than FFT size (512), frame will be truncated. Increase NFFT to avoid.\n",
      "WARNING:root:frame length (1103) is greater than FFT size (512), frame will be truncated. Increase NFFT to avoid.\n"
     ]
    },
    {
     "name": "stdout",
     "output_type": "stream",
     "text": [
      "-75.89456322251569\n",
      "-92.02429051359721\n",
      "-96.84603036758296\n"
     ]
    },
    {
     "name": "stderr",
     "output_type": "stream",
     "text": [
      "WARNING:root:frame length (1103) is greater than FFT size (512), frame will be truncated. Increase NFFT to avoid.\n",
      "WARNING:root:frame length (1200) is greater than FFT size (512), frame will be truncated. Increase NFFT to avoid.\n",
      "WARNING:root:frame length (1200) is greater than FFT size (512), frame will be truncated. Increase NFFT to avoid.\n"
     ]
    },
    {
     "name": "stdout",
     "output_type": "stream",
     "text": [
      "-91.57289724319263\n",
      "-80.91241498920708\n"
     ]
    },
    {
     "name": "stderr",
     "output_type": "stream",
     "text": [
      "WARNING:root:frame length (1103) is greater than FFT size (512), frame will be truncated. Increase NFFT to avoid.\n",
      "WARNING:root:frame length (1200) is greater than FFT size (512), frame will be truncated. Increase NFFT to avoid.\n"
     ]
    },
    {
     "name": "stdout",
     "output_type": "stream",
     "text": [
      "-74.41085139743036\n",
      "-98.51379515957433\n",
      "-76.58382969546804\n"
     ]
    },
    {
     "name": "stderr",
     "output_type": "stream",
     "text": [
      "WARNING:root:frame length (1200) is greater than FFT size (512), frame will be truncated. Increase NFFT to avoid.\n",
      "WARNING:root:frame length (1200) is greater than FFT size (512), frame will be truncated. Increase NFFT to avoid.\n",
      "WARNING:root:frame length (1200) is greater than FFT size (512), frame will be truncated. Increase NFFT to avoid.\n"
     ]
    },
    {
     "name": "stdout",
     "output_type": "stream",
     "text": [
      "-80.70215701804146\n",
      "-73.62267213517555\n"
     ]
    },
    {
     "name": "stderr",
     "output_type": "stream",
     "text": [
      "WARNING:root:frame length (1200) is greater than FFT size (512), frame will be truncated. Increase NFFT to avoid.\n",
      "WARNING:root:frame length (1103) is greater than FFT size (512), frame will be truncated. Increase NFFT to avoid.\n"
     ]
    },
    {
     "name": "stdout",
     "output_type": "stream",
     "text": [
      "-72.07080352657867\n",
      "-75.78187751820614\n"
     ]
    },
    {
     "name": "stderr",
     "output_type": "stream",
     "text": [
      "WARNING:root:frame length (1200) is greater than FFT size (512), frame will be truncated. Increase NFFT to avoid.\n",
      "WARNING:root:frame length (1200) is greater than FFT size (512), frame will be truncated. Increase NFFT to avoid.\n"
     ]
    },
    {
     "name": "stdout",
     "output_type": "stream",
     "text": [
      "-93.22249590128638\n",
      "-77.01378809596926\n"
     ]
    },
    {
     "name": "stderr",
     "output_type": "stream",
     "text": [
      "WARNING:root:frame length (1200) is greater than FFT size (512), frame will be truncated. Increase NFFT to avoid.\n"
     ]
    },
    {
     "name": "stdout",
     "output_type": "stream",
     "text": [
      "-73.15596988721032\n"
     ]
    },
    {
     "name": "stderr",
     "output_type": "stream",
     "text": [
      "WARNING:root:frame length (1200) is greater than FFT size (512), frame will be truncated. Increase NFFT to avoid.\n",
      "WARNING:root:frame length (1103) is greater than FFT size (512), frame will be truncated. Increase NFFT to avoid.\n"
     ]
    },
    {
     "name": "stdout",
     "output_type": "stream",
     "text": [
      "-79.09224980617178\n",
      "-76.74053790769125\n"
     ]
    },
    {
     "name": "stderr",
     "output_type": "stream",
     "text": [
      "WARNING:root:frame length (1200) is greater than FFT size (512), frame will be truncated. Increase NFFT to avoid.\n",
      "WARNING:root:frame length (1200) is greater than FFT size (512), frame will be truncated. Increase NFFT to avoid.\n"
     ]
    },
    {
     "name": "stdout",
     "output_type": "stream",
     "text": [
      "-102.23681020393566\n",
      "-75.73687994667225\n"
     ]
    },
    {
     "name": "stderr",
     "output_type": "stream",
     "text": [
      "WARNING:root:frame length (1103) is greater than FFT size (512), frame will be truncated. Increase NFFT to avoid.\n",
      "WARNING:root:frame length (1200) is greater than FFT size (512), frame will be truncated. Increase NFFT to avoid.\n",
      "WARNING:root:frame length (1103) is greater than FFT size (512), frame will be truncated. Increase NFFT to avoid.\n"
     ]
    },
    {
     "name": "stdout",
     "output_type": "stream",
     "text": [
      "-73.879233037185\n",
      "-92.55954001848366\n",
      "-75.22656101481562\n"
     ]
    },
    {
     "name": "stderr",
     "output_type": "stream",
     "text": [
      "WARNING:root:frame length (1200) is greater than FFT size (512), frame will be truncated. Increase NFFT to avoid.\n"
     ]
    },
    {
     "name": "stdout",
     "output_type": "stream",
     "text": [
      "-90.19040694733616\n",
      "-79.43209304809132\n"
     ]
    },
    {
     "name": "stderr",
     "output_type": "stream",
     "text": [
      "WARNING:root:frame length (1103) is greater than FFT size (512), frame will be truncated. Increase NFFT to avoid.\n",
      "WARNING:root:frame length (1103) is greater than FFT size (512), frame will be truncated. Increase NFFT to avoid.\n",
      "WARNING:root:frame length (1200) is greater than FFT size (512), frame will be truncated. Increase NFFT to avoid.\n"
     ]
    },
    {
     "name": "stdout",
     "output_type": "stream",
     "text": [
      "-94.71476694568605\n",
      "-98.27308995369876\n"
     ]
    },
    {
     "name": "stderr",
     "output_type": "stream",
     "text": [
      "WARNING:root:frame length (1200) is greater than FFT size (512), frame will be truncated. Increase NFFT to avoid.\n",
      "WARNING:root:frame length (1103) is greater than FFT size (512), frame will be truncated. Increase NFFT to avoid.\n"
     ]
    },
    {
     "name": "stdout",
     "output_type": "stream",
     "text": [
      "-73.94724637010184\n",
      "-77.5088843876054\n"
     ]
    },
    {
     "name": "stderr",
     "output_type": "stream",
     "text": [
      "WARNING:root:frame length (1103) is greater than FFT size (512), frame will be truncated. Increase NFFT to avoid.\n",
      "WARNING:root:frame length (1103) is greater than FFT size (512), frame will be truncated. Increase NFFT to avoid.\n"
     ]
    },
    {
     "name": "stdout",
     "output_type": "stream",
     "text": [
      "-88.67859540390009\n",
      "-88.69357405221449\n"
     ]
    },
    {
     "name": "stderr",
     "output_type": "stream",
     "text": [
      "WARNING:root:frame length (1200) is greater than FFT size (512), frame will be truncated. Increase NFFT to avoid.\n",
      "WARNING:root:frame length (1200) is greater than FFT size (512), frame will be truncated. Increase NFFT to avoid.\n"
     ]
    },
    {
     "name": "stdout",
     "output_type": "stream",
     "text": [
      "-92.9769860095851\n",
      "-76.78795927128208\n"
     ]
    },
    {
     "name": "stderr",
     "output_type": "stream",
     "text": [
      "WARNING:root:frame length (1200) is greater than FFT size (512), frame will be truncated. Increase NFFT to avoid.\n"
     ]
    },
    {
     "name": "stdout",
     "output_type": "stream",
     "text": [
      "-74.72561452849743\n",
      "-73.87459350638598\n"
     ]
    },
    {
     "name": "stderr",
     "output_type": "stream",
     "text": [
      "WARNING:root:frame length (1103) is greater than FFT size (512), frame will be truncated. Increase NFFT to avoid.\n",
      "WARNING:root:frame length (1200) is greater than FFT size (512), frame will be truncated. Increase NFFT to avoid.\n"
     ]
    },
    {
     "name": "stdout",
     "output_type": "stream",
     "text": [
      "-95.63933853328966\n",
      "-76.45938445764949\n"
     ]
    },
    {
     "name": "stderr",
     "output_type": "stream",
     "text": [
      "WARNING:root:frame length (600) is greater than FFT size (512), frame will be truncated. Increase NFFT to avoid.\n"
     ]
    },
    {
     "name": "stdout",
     "output_type": "stream",
     "text": [
      "-76.52040721968031\n",
      "-77.09094281762327\n"
     ]
    },
    {
     "name": "stderr",
     "output_type": "stream",
     "text": [
      "WARNING:root:frame length (1200) is greater than FFT size (512), frame will be truncated. Increase NFFT to avoid.\n",
      "WARNING:root:frame length (1103) is greater than FFT size (512), frame will be truncated. Increase NFFT to avoid.\n",
      "WARNING:root:frame length (1103) is greater than FFT size (512), frame will be truncated. Increase NFFT to avoid.\n",
      "WARNING:root:frame length (1103) is greater than FFT size (512), frame will be truncated. Increase NFFT to avoid.\n"
     ]
    },
    {
     "name": "stdout",
     "output_type": "stream",
     "text": [
      "-77.78870190783114\n",
      "-95.24609043449958\n",
      "-95.9512721182824\n"
     ]
    },
    {
     "name": "stderr",
     "output_type": "stream",
     "text": [
      "WARNING:root:frame length (1200) is greater than FFT size (512), frame will be truncated. Increase NFFT to avoid.\n"
     ]
    },
    {
     "name": "stdout",
     "output_type": "stream",
     "text": [
      "-92.04589301877643\n",
      "-71.08057059986079\n"
     ]
    },
    {
     "name": "stderr",
     "output_type": "stream",
     "text": [
      "WARNING:root:frame length (1200) is greater than FFT size (512), frame will be truncated. Increase NFFT to avoid.\n"
     ]
    },
    {
     "name": "stdout",
     "output_type": "stream",
     "text": [
      "-72.52316816425282\n",
      "-74.07551919798833\n"
     ]
    },
    {
     "name": "stderr",
     "output_type": "stream",
     "text": [
      "WARNING:root:frame length (1200) is greater than FFT size (512), frame will be truncated. Increase NFFT to avoid.\n",
      "WARNING:root:frame length (1200) is greater than FFT size (512), frame will be truncated. Increase NFFT to avoid.\n"
     ]
    },
    {
     "name": "stdout",
     "output_type": "stream",
     "text": [
      "-76.45581174397302\n"
     ]
    },
    {
     "name": "stderr",
     "output_type": "stream",
     "text": [
      "WARNING:root:frame length (1103) is greater than FFT size (512), frame will be truncated. Increase NFFT to avoid.\n",
      "WARNING:root:frame length (1200) is greater than FFT size (512), frame will be truncated. Increase NFFT to avoid.\n"
     ]
    },
    {
     "name": "stdout",
     "output_type": "stream",
     "text": [
      "-77.37038356220435\n",
      "-99.15806799009573\n",
      "-78.49438653693016\n"
     ]
    },
    {
     "name": "stderr",
     "output_type": "stream",
     "text": [
      "WARNING:root:frame length (1200) is greater than FFT size (512), frame will be truncated. Increase NFFT to avoid.\n",
      "WARNING:root:frame length (1103) is greater than FFT size (512), frame will be truncated. Increase NFFT to avoid.\n",
      "WARNING:root:frame length (1200) is greater than FFT size (512), frame will be truncated. Increase NFFT to avoid.\n"
     ]
    },
    {
     "name": "stdout",
     "output_type": "stream",
     "text": [
      "-79.26887774030214\n",
      "-91.9694696604303\n"
     ]
    },
    {
     "name": "stderr",
     "output_type": "stream",
     "text": [
      "WARNING:root:frame length (1200) is greater than FFT size (512), frame will be truncated. Increase NFFT to avoid.\n",
      "WARNING:root:frame length (1103) is greater than FFT size (512), frame will be truncated. Increase NFFT to avoid.\n"
     ]
    },
    {
     "name": "stdout",
     "output_type": "stream",
     "text": [
      "-76.25243019301207\n",
      "-77.87642873144083\n"
     ]
    },
    {
     "name": "stderr",
     "output_type": "stream",
     "text": [
      "WARNING:root:frame length (1103) is greater than FFT size (512), frame will be truncated. Increase NFFT to avoid.\n",
      "WARNING:root:frame length (1103) is greater than FFT size (512), frame will be truncated. Increase NFFT to avoid.\n"
     ]
    },
    {
     "name": "stdout",
     "output_type": "stream",
     "text": [
      "-102.87577309888397\n",
      "-96.71805306944545\n"
     ]
    },
    {
     "name": "stderr",
     "output_type": "stream",
     "text": [
      "WARNING:root:frame length (1103) is greater than FFT size (512), frame will be truncated. Increase NFFT to avoid.\n",
      "WARNING:root:frame length (1103) is greater than FFT size (512), frame will be truncated. Increase NFFT to avoid.\n"
     ]
    },
    {
     "name": "stdout",
     "output_type": "stream",
     "text": [
      "-91.42348293979146\n",
      "-95.72580245975527\n"
     ]
    },
    {
     "name": "stderr",
     "output_type": "stream",
     "text": [
      "WARNING:root:frame length (1103) is greater than FFT size (512), frame will be truncated. Increase NFFT to avoid.\n",
      "WARNING:root:frame length (1103) is greater than FFT size (512), frame will be truncated. Increase NFFT to avoid.\n"
     ]
    },
    {
     "name": "stdout",
     "output_type": "stream",
     "text": [
      "-91.93984202815501\n",
      "-89.25538622989279\n"
     ]
    },
    {
     "name": "stderr",
     "output_type": "stream",
     "text": [
      "WARNING:root:frame length (600) is greater than FFT size (512), frame will be truncated. Increase NFFT to avoid.\n"
     ]
    },
    {
     "name": "stdout",
     "output_type": "stream",
     "text": [
      "-93.6152180673768\n",
      "-79.77551784037169\n"
     ]
    },
    {
     "name": "stderr",
     "output_type": "stream",
     "text": [
      "WARNING:root:frame length (1200) is greater than FFT size (512), frame will be truncated. Increase NFFT to avoid.\n",
      "WARNING:root:frame length (1103) is greater than FFT size (512), frame will be truncated. Increase NFFT to avoid.\n",
      "WARNING:root:frame length (1103) is greater than FFT size (512), frame will be truncated. Increase NFFT to avoid.\n"
     ]
    },
    {
     "name": "stdout",
     "output_type": "stream",
     "text": [
      "-72.51066337890283\n",
      "-94.992186133719\n"
     ]
    },
    {
     "name": "stderr",
     "output_type": "stream",
     "text": [
      "WARNING:root:frame length (1200) is greater than FFT size (512), frame will be truncated. Increase NFFT to avoid.\n"
     ]
    },
    {
     "name": "stdout",
     "output_type": "stream",
     "text": [
      "-91.69724422071006\n",
      "-80.72137717884235\n"
     ]
    },
    {
     "name": "stderr",
     "output_type": "stream",
     "text": [
      "WARNING:root:frame length (1200) is greater than FFT size (512), frame will be truncated. Increase NFFT to avoid.\n",
      "WARNING:root:frame length (1200) is greater than FFT size (512), frame will be truncated. Increase NFFT to avoid.\n",
      "WARNING:root:frame length (1200) is greater than FFT size (512), frame will be truncated. Increase NFFT to avoid.\n"
     ]
    },
    {
     "name": "stdout",
     "output_type": "stream",
     "text": [
      "-79.60900427710312\n",
      "-82.24017002004771\n"
     ]
    },
    {
     "name": "stderr",
     "output_type": "stream",
     "text": [
      "WARNING:root:frame length (1103) is greater than FFT size (512), frame will be truncated. Increase NFFT to avoid.\n",
      "WARNING:root:frame length (1103) is greater than FFT size (512), frame will be truncated. Increase NFFT to avoid.\n"
     ]
    },
    {
     "name": "stdout",
     "output_type": "stream",
     "text": [
      "-76.71953495176987\n",
      "-101.71660389371816\n",
      "-97.13319845945952\n"
     ]
    },
    {
     "name": "stderr",
     "output_type": "stream",
     "text": [
      "WARNING:root:frame length (1200) is greater than FFT size (512), frame will be truncated. Increase NFFT to avoid.\n",
      "WARNING:root:frame length (1200) is greater than FFT size (512), frame will be truncated. Increase NFFT to avoid.\n",
      "WARNING:root:frame length (1103) is greater than FFT size (512), frame will be truncated. Increase NFFT to avoid.\n"
     ]
    },
    {
     "name": "stdout",
     "output_type": "stream",
     "text": [
      "-80.74657101537606\n",
      "-76.71538138429014\n",
      "-93.93559118447455\n"
     ]
    },
    {
     "name": "stderr",
     "output_type": "stream",
     "text": [
      "WARNING:root:frame length (1200) is greater than FFT size (512), frame will be truncated. Increase NFFT to avoid.\n",
      "WARNING:root:frame length (1103) is greater than FFT size (512), frame will be truncated. Increase NFFT to avoid.\n",
      "WARNING:root:frame length (1200) is greater than FFT size (512), frame will be truncated. Increase NFFT to avoid.\n"
     ]
    },
    {
     "name": "stdout",
     "output_type": "stream",
     "text": [
      "-72.21626060178977\n",
      "-94.72584853800001\n",
      "-75.44465465809287\n"
     ]
    },
    {
     "name": "stderr",
     "output_type": "stream",
     "text": [
      "WARNING:root:frame length (1103) is greater than FFT size (512), frame will be truncated. Increase NFFT to avoid.\n",
      "WARNING:root:frame length (1103) is greater than FFT size (512), frame will be truncated. Increase NFFT to avoid.\n"
     ]
    },
    {
     "name": "stdout",
     "output_type": "stream",
     "text": [
      "-83.1367704227162\n",
      "-93.41446418388628\n",
      "-79.94599427690687\n"
     ]
    },
    {
     "name": "stderr",
     "output_type": "stream",
     "text": [
      "WARNING:root:frame length (1103) is greater than FFT size (512), frame will be truncated. Increase NFFT to avoid.\n"
     ]
    },
    {
     "name": "stdout",
     "output_type": "stream",
     "text": [
      "-77.10051481157949\n",
      "-90.21008938165447\n"
     ]
    },
    {
     "name": "stderr",
     "output_type": "stream",
     "text": [
      "WARNING:root:frame length (1200) is greater than FFT size (512), frame will be truncated. Increase NFFT to avoid.\n",
      "WARNING:root:frame length (1103) is greater than FFT size (512), frame will be truncated. Increase NFFT to avoid.\n",
      "WARNING:root:frame length (1103) is greater than FFT size (512), frame will be truncated. Increase NFFT to avoid.\n"
     ]
    },
    {
     "name": "stdout",
     "output_type": "stream",
     "text": [
      "-69.42835868145856\n",
      "-91.24811599599943\n"
     ]
    },
    {
     "name": "stderr",
     "output_type": "stream",
     "text": [
      "WARNING:root:frame length (1103) is greater than FFT size (512), frame will be truncated. Increase NFFT to avoid.\n",
      "WARNING:root:frame length (1103) is greater than FFT size (512), frame will be truncated. Increase NFFT to avoid.\n"
     ]
    },
    {
     "name": "stdout",
     "output_type": "stream",
     "text": [
      "-102.30996023891674\n",
      "-92.2520396503638\n"
     ]
    },
    {
     "name": "stderr",
     "output_type": "stream",
     "text": [
      "WARNING:root:frame length (1103) is greater than FFT size (512), frame will be truncated. Increase NFFT to avoid.\n",
      "WARNING:root:frame length (1103) is greater than FFT size (512), frame will be truncated. Increase NFFT to avoid.\n"
     ]
    },
    {
     "name": "stdout",
     "output_type": "stream",
     "text": [
      "-100.11957325267346\n",
      "-82.91630823258969\n",
      "-82.41366483166475\n"
     ]
    },
    {
     "name": "stderr",
     "output_type": "stream",
     "text": [
      "WARNING:root:frame length (1200) is greater than FFT size (512), frame will be truncated. Increase NFFT to avoid.\n",
      "WARNING:root:frame length (1103) is greater than FFT size (512), frame will be truncated. Increase NFFT to avoid.\n",
      "WARNING:root:frame length (1103) is greater than FFT size (512), frame will be truncated. Increase NFFT to avoid.\n",
      "WARNING:root:frame length (1103) is greater than FFT size (512), frame will be truncated. Increase NFFT to avoid.\n"
     ]
    },
    {
     "name": "stdout",
     "output_type": "stream",
     "text": [
      "-75.82565832855974\n",
      "-95.67283422701766\n",
      "-91.53753470041913\n"
     ]
    },
    {
     "name": "stderr",
     "output_type": "stream",
     "text": [
      "WARNING:root:frame length (1200) is greater than FFT size (512), frame will be truncated. Increase NFFT to avoid.\n",
      "WARNING:root:frame length (1103) is greater than FFT size (512), frame will be truncated. Increase NFFT to avoid.\n"
     ]
    },
    {
     "name": "stdout",
     "output_type": "stream",
     "text": [
      "-90.9130097003212\n",
      "-75.91055178871837\n",
      "-88.8066842605628\n"
     ]
    },
    {
     "name": "stderr",
     "output_type": "stream",
     "text": [
      "WARNING:root:frame length (1103) is greater than FFT size (512), frame will be truncated. Increase NFFT to avoid.\n",
      "WARNING:root:frame length (1200) is greater than FFT size (512), frame will be truncated. Increase NFFT to avoid.\n",
      "WARNING:root:frame length (1200) is greater than FFT size (512), frame will be truncated. Increase NFFT to avoid.\n",
      "WARNING:root:frame length (1103) is greater than FFT size (512), frame will be truncated. Increase NFFT to avoid.\n"
     ]
    },
    {
     "name": "stdout",
     "output_type": "stream",
     "text": [
      "-82.90139454253874\n",
      "-76.57419378544627\n",
      "-77.46776628450407\n"
     ]
    },
    {
     "name": "stderr",
     "output_type": "stream",
     "text": [
      "WARNING:root:frame length (1103) is greater than FFT size (512), frame will be truncated. Increase NFFT to avoid.\n",
      "WARNING:root:frame length (600) is greater than FFT size (512), frame will be truncated. Increase NFFT to avoid.\n"
     ]
    },
    {
     "name": "stdout",
     "output_type": "stream",
     "text": [
      "-91.27432786208038\n",
      "-92.53343928282237\n",
      "-78.62224888494802\n"
     ]
    },
    {
     "name": "stderr",
     "output_type": "stream",
     "text": [
      "WARNING:root:frame length (1103) is greater than FFT size (512), frame will be truncated. Increase NFFT to avoid.\n",
      "WARNING:root:frame length (1103) is greater than FFT size (512), frame will be truncated. Increase NFFT to avoid.\n"
     ]
    },
    {
     "name": "stdout",
     "output_type": "stream",
     "text": [
      "-89.38190148656747\n",
      "-90.58007862596429\n"
     ]
    },
    {
     "name": "stderr",
     "output_type": "stream",
     "text": [
      "WARNING:root:frame length (1200) is greater than FFT size (512), frame will be truncated. Increase NFFT to avoid.\n",
      "WARNING:root:frame length (1200) is greater than FFT size (512), frame will be truncated. Increase NFFT to avoid.\n"
     ]
    },
    {
     "name": "stdout",
     "output_type": "stream",
     "text": [
      "-71.72217952889196\n",
      "-72.76985393052351\n"
     ]
    },
    {
     "name": "stderr",
     "output_type": "stream",
     "text": [
      "WARNING:root:frame length (1103) is greater than FFT size (512), frame will be truncated. Increase NFFT to avoid.\n",
      "WARNING:root:frame length (1200) is greater than FFT size (512), frame will be truncated. Increase NFFT to avoid.\n"
     ]
    },
    {
     "name": "stdout",
     "output_type": "stream",
     "text": [
      "-93.23630380447719\n",
      "-77.32640311237375\n"
     ]
    },
    {
     "name": "stderr",
     "output_type": "stream",
     "text": [
      "WARNING:root:frame length (1103) is greater than FFT size (512), frame will be truncated. Increase NFFT to avoid.\n",
      "WARNING:root:frame length (1103) is greater than FFT size (512), frame will be truncated. Increase NFFT to avoid.\n",
      "WARNING:root:frame length (1103) is greater than FFT size (512), frame will be truncated. Increase NFFT to avoid.\n"
     ]
    },
    {
     "name": "stdout",
     "output_type": "stream",
     "text": [
      "-93.14106296134217\n",
      "-83.07122595695193\n",
      "-94.68083773224981\n"
     ]
    },
    {
     "name": "stderr",
     "output_type": "stream",
     "text": [
      "WARNING:root:frame length (1200) is greater than FFT size (512), frame will be truncated. Increase NFFT to avoid.\n",
      "WARNING:root:frame length (1103) is greater than FFT size (512), frame will be truncated. Increase NFFT to avoid.\n",
      "WARNING:root:frame length (1200) is greater than FFT size (512), frame will be truncated. Increase NFFT to avoid.\n"
     ]
    },
    {
     "name": "stdout",
     "output_type": "stream",
     "text": [
      "-72.94413164942988\n",
      "-91.8820211230442\n"
     ]
    },
    {
     "name": "stderr",
     "output_type": "stream",
     "text": [
      "WARNING:root:frame length (1103) is greater than FFT size (512), frame will be truncated. Increase NFFT to avoid.\n",
      "WARNING:root:frame length (1200) is greater than FFT size (512), frame will be truncated. Increase NFFT to avoid.\n"
     ]
    },
    {
     "name": "stdout",
     "output_type": "stream",
     "text": [
      "-74.96735744899284\n",
      "-93.28161672579667\n",
      "-73.4161881832566\n"
     ]
    },
    {
     "name": "stderr",
     "output_type": "stream",
     "text": [
      "WARNING:root:frame length (1103) is greater than FFT size (512), frame will be truncated. Increase NFFT to avoid.\n",
      "WARNING:root:frame length (1200) is greater than FFT size (512), frame will be truncated. Increase NFFT to avoid.\n",
      "WARNING:root:frame length (1103) is greater than FFT size (512), frame will be truncated. Increase NFFT to avoid.\n"
     ]
    },
    {
     "name": "stdout",
     "output_type": "stream",
     "text": [
      "-93.82644768869727\n",
      "-81.2438711852118\n",
      "-91.56508036151669\n"
     ]
    },
    {
     "name": "stderr",
     "output_type": "stream",
     "text": [
      "WARNING:root:frame length (1200) is greater than FFT size (512), frame will be truncated. Increase NFFT to avoid.\n",
      "WARNING:root:frame length (1200) is greater than FFT size (512), frame will be truncated. Increase NFFT to avoid.\n",
      "WARNING:root:frame length (1103) is greater than FFT size (512), frame will be truncated. Increase NFFT to avoid.\n"
     ]
    },
    {
     "name": "stdout",
     "output_type": "stream",
     "text": [
      "-76.10577173083881\n",
      "-75.22015432349234\n",
      "-91.38971520607532\n"
     ]
    },
    {
     "name": "stderr",
     "output_type": "stream",
     "text": [
      "WARNING:root:frame length (1103) is greater than FFT size (512), frame will be truncated. Increase NFFT to avoid.\n",
      "WARNING:root:frame length (1103) is greater than FFT size (512), frame will be truncated. Increase NFFT to avoid.\n",
      "WARNING:root:frame length (1103) is greater than FFT size (512), frame will be truncated. Increase NFFT to avoid.\n"
     ]
    },
    {
     "name": "stdout",
     "output_type": "stream",
     "text": [
      "-101.0783430817825\n",
      "-89.80411973079264\n",
      "-93.90159841959199\n"
     ]
    },
    {
     "name": "stderr",
     "output_type": "stream",
     "text": [
      "WARNING:root:frame length (1200) is greater than FFT size (512), frame will be truncated. Increase NFFT to avoid.\n",
      "WARNING:root:frame length (1200) is greater than FFT size (512), frame will be truncated. Increase NFFT to avoid.\n",
      "WARNING:root:frame length (1103) is greater than FFT size (512), frame will be truncated. Increase NFFT to avoid.\n"
     ]
    },
    {
     "name": "stdout",
     "output_type": "stream",
     "text": [
      "-78.11636805830179\n",
      "-79.29741983369419\n"
     ]
    },
    {
     "name": "stderr",
     "output_type": "stream",
     "text": [
      "WARNING:root:frame length (1103) is greater than FFT size (512), frame will be truncated. Increase NFFT to avoid.\n",
      "WARNING:root:frame length (1200) is greater than FFT size (512), frame will be truncated. Increase NFFT to avoid.\n"
     ]
    },
    {
     "name": "stdout",
     "output_type": "stream",
     "text": [
      "-91.4431777534703\n",
      "-92.66336240798066\n",
      "-77.68220516697201\n"
     ]
    },
    {
     "name": "stderr",
     "output_type": "stream",
     "text": [
      "WARNING:root:frame length (1200) is greater than FFT size (512), frame will be truncated. Increase NFFT to avoid.\n",
      "WARNING:root:frame length (1200) is greater than FFT size (512), frame will be truncated. Increase NFFT to avoid.\n"
     ]
    },
    {
     "name": "stdout",
     "output_type": "stream",
     "text": [
      "-76.88940040273394\n"
     ]
    },
    {
     "name": "stderr",
     "output_type": "stream",
     "text": [
      "WARNING:root:frame length (1200) is greater than FFT size (512), frame will be truncated. Increase NFFT to avoid.\n",
      "WARNING:root:frame length (1200) is greater than FFT size (512), frame will be truncated. Increase NFFT to avoid.\n"
     ]
    },
    {
     "name": "stdout",
     "output_type": "stream",
     "text": [
      "-79.90492710603843\n",
      "-75.92995454087306\n"
     ]
    },
    {
     "name": "stderr",
     "output_type": "stream",
     "text": [
      "WARNING:root:frame length (1200) is greater than FFT size (512), frame will be truncated. Increase NFFT to avoid.\n",
      "WARNING:root:frame length (1103) is greater than FFT size (512), frame will be truncated. Increase NFFT to avoid.\n"
     ]
    },
    {
     "name": "stdout",
     "output_type": "stream",
     "text": [
      "-77.81269721783023\n",
      "-76.40407368213813\n"
     ]
    },
    {
     "name": "stderr",
     "output_type": "stream",
     "text": [
      "WARNING:root:frame length (1103) is greater than FFT size (512), frame will be truncated. Increase NFFT to avoid.\n",
      "WARNING:root:frame length (1200) is greater than FFT size (512), frame will be truncated. Increase NFFT to avoid.\n",
      "WARNING:root:frame length (1103) is greater than FFT size (512), frame will be truncated. Increase NFFT to avoid.\n"
     ]
    },
    {
     "name": "stdout",
     "output_type": "stream",
     "text": [
      "-92.10974881963753\n",
      "-92.20683641754638\n",
      "-78.71163101207948\n",
      "-91.63978480775955\n"
     ]
    },
    {
     "name": "stderr",
     "output_type": "stream",
     "text": [
      "WARNING:root:frame length (1103) is greater than FFT size (512), frame will be truncated. Increase NFFT to avoid.\n",
      "WARNING:root:frame length (1200) is greater than FFT size (512), frame will be truncated. Increase NFFT to avoid.\n",
      "WARNING:root:frame length (1103) is greater than FFT size (512), frame will be truncated. Increase NFFT to avoid.\n"
     ]
    },
    {
     "name": "stdout",
     "output_type": "stream",
     "text": [
      "-90.76078330358746\n",
      "-79.66156128951769\n"
     ]
    },
    {
     "name": "stderr",
     "output_type": "stream",
     "text": [
      "WARNING:root:frame length (1200) is greater than FFT size (512), frame will be truncated. Increase NFFT to avoid.\n",
      "WARNING:root:frame length (1200) is greater than FFT size (512), frame will be truncated. Increase NFFT to avoid.\n"
     ]
    },
    {
     "name": "stdout",
     "output_type": "stream",
     "text": [
      "-83.27672532760313\n",
      "-73.63751793277426\n"
     ]
    },
    {
     "name": "stderr",
     "output_type": "stream",
     "text": [
      "WARNING:root:frame length (1103) is greater than FFT size (512), frame will be truncated. Increase NFFT to avoid.\n",
      "WARNING:root:frame length (1103) is greater than FFT size (512), frame will be truncated. Increase NFFT to avoid.\n"
     ]
    },
    {
     "name": "stdout",
     "output_type": "stream",
     "text": [
      "-74.00348506739418\n",
      "-98.89181128870607\n"
     ]
    },
    {
     "name": "stderr",
     "output_type": "stream",
     "text": [
      "WARNING:root:frame length (1200) is greater than FFT size (512), frame will be truncated. Increase NFFT to avoid.\n",
      "WARNING:root:frame length (1103) is greater than FFT size (512), frame will be truncated. Increase NFFT to avoid.\n"
     ]
    },
    {
     "name": "stdout",
     "output_type": "stream",
     "text": [
      "-90.48278945329383\n",
      "-76.74110390434973\n"
     ]
    },
    {
     "name": "stderr",
     "output_type": "stream",
     "text": [
      "WARNING:root:frame length (1200) is greater than FFT size (512), frame will be truncated. Increase NFFT to avoid.\n",
      "WARNING:root:frame length (1103) is greater than FFT size (512), frame will be truncated. Increase NFFT to avoid.\n",
      "WARNING:root:frame length (1103) is greater than FFT size (512), frame will be truncated. Increase NFFT to avoid.\n"
     ]
    },
    {
     "name": "stdout",
     "output_type": "stream",
     "text": [
      "-93.24017813746079\n",
      "-76.23930378800837\n",
      "-91.67907648130947\n"
     ]
    },
    {
     "name": "stderr",
     "output_type": "stream",
     "text": [
      "WARNING:root:frame length (1103) is greater than FFT size (512), frame will be truncated. Increase NFFT to avoid.\n",
      "WARNING:root:frame length (1200) is greater than FFT size (512), frame will be truncated. Increase NFFT to avoid.\n"
     ]
    },
    {
     "name": "stdout",
     "output_type": "stream",
     "text": [
      "-91.4427995486505\n",
      "-93.4585265318777\n",
      "-77.00059994657326\n"
     ]
    },
    {
     "name": "stderr",
     "output_type": "stream",
     "text": [
      "WARNING:root:frame length (1200) is greater than FFT size (512), frame will be truncated. Increase NFFT to avoid.\n",
      "WARNING:root:frame length (1200) is greater than FFT size (512), frame will be truncated. Increase NFFT to avoid.\n"
     ]
    },
    {
     "name": "stdout",
     "output_type": "stream",
     "text": [
      "-76.66621127780948\n",
      "-77.98936452255502\n"
     ]
    },
    {
     "name": "stderr",
     "output_type": "stream",
     "text": [
      "WARNING:root:frame length (1200) is greater than FFT size (512), frame will be truncated. Increase NFFT to avoid.\n",
      "WARNING:root:frame length (1200) is greater than FFT size (512), frame will be truncated. Increase NFFT to avoid.\n",
      "WARNING:root:frame length (600) is greater than FFT size (512), frame will be truncated. Increase NFFT to avoid.\n"
     ]
    },
    {
     "name": "stdout",
     "output_type": "stream",
     "text": [
      "-75.63585004817081\n",
      "-80.25268766454971\n",
      "-78.27733014396196\n"
     ]
    },
    {
     "name": "stderr",
     "output_type": "stream",
     "text": [
      "WARNING:root:frame length (1200) is greater than FFT size (512), frame will be truncated. Increase NFFT to avoid.\n",
      "WARNING:root:frame length (1103) is greater than FFT size (512), frame will be truncated. Increase NFFT to avoid.\n",
      "WARNING:root:frame length (1103) is greater than FFT size (512), frame will be truncated. Increase NFFT to avoid.\n"
     ]
    },
    {
     "name": "stdout",
     "output_type": "stream",
     "text": [
      "-76.69376454040096\n",
      "-93.0437509873332\n",
      "-98.65752911566221\n",
      "-79.73324749320325\n"
     ]
    },
    {
     "name": "stderr",
     "output_type": "stream",
     "text": [
      "WARNING:root:frame length (1200) is greater than FFT size (512), frame will be truncated. Increase NFFT to avoid.\n",
      "WARNING:root:frame length (1200) is greater than FFT size (512), frame will be truncated. Increase NFFT to avoid.\n"
     ]
    },
    {
     "name": "stdout",
     "output_type": "stream",
     "text": [
      "-76.92571746578162\n",
      "-75.05500324002124\n"
     ]
    },
    {
     "name": "stderr",
     "output_type": "stream",
     "text": [
      "WARNING:root:frame length (1200) is greater than FFT size (512), frame will be truncated. Increase NFFT to avoid.\n",
      "WARNING:root:frame length (1103) is greater than FFT size (512), frame will be truncated. Increase NFFT to avoid.\n",
      "WARNING:root:frame length (1103) is greater than FFT size (512), frame will be truncated. Increase NFFT to avoid.\n"
     ]
    },
    {
     "name": "stdout",
     "output_type": "stream",
     "text": [
      "-74.17367312991138\n",
      "-92.8324067193883\n",
      "-94.15921523010363\n"
     ]
    },
    {
     "name": "stderr",
     "output_type": "stream",
     "text": [
      "WARNING:root:frame length (1200) is greater than FFT size (512), frame will be truncated. Increase NFFT to avoid.\n"
     ]
    },
    {
     "name": "stdout",
     "output_type": "stream",
     "text": [
      "-73.4867323294706\n",
      "rec_id: 43QRG7SY14, actual_name: Elias Svensson, best_match_name: Fatima Zahra Mansouri, match_result: False\n",
      "rec_id: YXAXYF3SXW, actual_name: Finn Murphy, best_match_name: Charlotte Leclerc, match_result: False\n",
      "rec_id: ZVS4M3Y201, actual_name: Mia Anderson, best_match_name: Mia Anderson, match_result: True\n",
      "rec_id: NZBALVR6CF, actual_name: Mia Anderson, best_match_name: Olivia Tremblay, match_result: False\n",
      "rec_id: GHSWJ7IZ96, actual_name: Amina Kouri, best_match_name: Lara van den Berg, match_result: False\n",
      "rec_id: N2VPD13IWV, actual_name: Olivia Tremblay, best_match_name: Charlotte Leclerc, match_result: False\n",
      "rec_id: 656QZ2VWR4, actual_name: Jorge Castillo, best_match_name: Jorge Castillo, match_result: True\n",
      "rec_id: UMM0YIUKNH, actual_name: Noah Zimmerman, best_match_name: Fatima Zahra Mansouri, match_result: False\n",
      "rec_id: Z1BCC9U0E5, actual_name: Sofia Almeida, best_match_name: Lara van den Berg, match_result: False\n",
      "rec_id: XDAOHC9OY5, actual_name: Mia Anderson, best_match_name: Lara van den Berg, match_result: False\n",
      "rec_id: 6NPGSW6R8P, actual_name: Sofia Almeida, best_match_name: Lara van den Berg, match_result: False\n",
      "rec_id: I1TDO1US28, actual_name: Fatima Zahra Mansouri, best_match_name: Fatima Zahra Mansouri, match_result: True\n",
      "rec_id: ZYD38PBMCH, actual_name: Charlotte Leclerc, best_match_name: Charlotte Leclerc, match_result: True\n",
      "rec_id: H01FH3KEY8, actual_name: Santiago Rivera, best_match_name: Santiago Rivera, match_result: True\n",
      "rec_id: H1SQXI3VG1, actual_name: Noah Zimmerman, best_match_name: Charlotte Leclerc, match_result: False\n",
      "rec_id: FPLK2Z9M1O, actual_name: Kai Løkke, best_match_name: Kai Løkke, match_result: True\n",
      "rec_id: KD73PJ3EP5, actual_name: Santiago Rivera, best_match_name: Santiago Rivera, match_result: True\n",
      "rec_id: C4C384534S, actual_name: Finn Murphy, best_match_name: Lara van den Berg, match_result: False\n",
      "rec_id: ARMR64W5O0, actual_name: Elena Popova, best_match_name: Elena Popova, match_result: True\n",
      "rec_id: 4ZA11BXYQU, actual_name: Kai Løkke, best_match_name: Charlotte Leclerc, match_result: False\n",
      "rec_id: 23TVDEG2YC, actual_name: Santiago Rivera, best_match_name: Lara van den Berg, match_result: False\n",
      "rec_id: 30AERYBO11, actual_name: Isabella Rossi, best_match_name: Mia Anderson, match_result: False\n",
      "rec_id: BW1I95V68P, actual_name: Elias Svensson, best_match_name: Lara van den Berg, match_result: False\n",
      "rec_id: 3OS373FIQC, actual_name: Charlotte Leclerc, best_match_name: Charlotte Leclerc, match_result: True\n",
      "rec_id: X8L6WJ0NDN, actual_name: Kai Løkke, best_match_name: Charlotte Leclerc, match_result: False\n",
      "rec_id: YEQHIRWT8P, actual_name: Kai Løkke, best_match_name: Jorge Castillo, match_result: False\n",
      "rec_id: 1VVQNIU4I4, actual_name: Elena Popova, best_match_name: Elena Popova, match_result: True\n",
      "rec_id: 3162VQ31V7, actual_name: Elias Svensson, best_match_name: Elias Svensson, match_result: True\n",
      "rec_id: FVILFM7OSU, actual_name: Seo-yun Kim, best_match_name: Hiroshi Nakamura, match_result: False\n",
      "rec_id: WML4D26C67, actual_name: Lara van den Berg, best_match_name: Finn Murphy, match_result: False\n",
      "rec_id: 77DYFCICAX, actual_name: Seo-yun Kim, best_match_name: Seo-yun Kim, match_result: True\n",
      "rec_id: UGZ010DWVA, actual_name: Finn Murphy, best_match_name: Finn Murphy, match_result: True\n",
      "rec_id: OVOM1QSTK5, actual_name: Elias Svensson, best_match_name: Lara van den Berg, match_result: False\n",
      "rec_id: 42784TS74Q, actual_name: Finn Murphy, best_match_name: Lara van den Berg, match_result: False\n",
      "rec_id: RL9JXFY2JE, actual_name: Mia Anderson, best_match_name: Mia Anderson, match_result: True\n",
      "rec_id: LF0QTFG29B, actual_name: Kai Løkke, best_match_name: Charlotte Leclerc, match_result: False\n",
      "rec_id: FSPNRHDS44, actual_name: Lara van den Berg, best_match_name: Lara van den Berg, match_result: True\n",
      "rec_id: OA8CVUPFQ2, actual_name: Anika Patel, best_match_name: Anika Patel, match_result: True\n",
      "rec_id: GWE85UXMG3, actual_name: Amina Kouri, best_match_name: Lara van den Berg, match_result: False\n",
      "rec_id: LLG5ML8RHL, actual_name: Sofia Almeida, best_match_name: Lara van den Berg, match_result: False\n",
      "rec_id: 4LOY1URGVH, actual_name: Santiago Rivera, best_match_name: Santiago Rivera, match_result: True\n",
      "rec_id: DXUFMO00FS, actual_name: Elena Popova, best_match_name: Charlotte Leclerc, match_result: False\n",
      "rec_id: AQ7QG00T1E, actual_name: Liam O'Brien, best_match_name: Anika Patel, match_result: False\n",
      "rec_id: YEZKNC4RNY, actual_name: Isabella Rossi, best_match_name: Charlotte Leclerc, match_result: False\n",
      "rec_id: H6XNGJ7SCM, actual_name: Lara van den Berg, best_match_name: Lara van den Berg, match_result: True\n",
      "rec_id: IIBWPCAJFZ, actual_name: Charlotte Leclerc, best_match_name: Charlotte Leclerc, match_result: True\n",
      "rec_id: MQX8OX8FIO, actual_name: Fatima Zahra Mansouri, best_match_name: Fatima Zahra Mansouri, match_result: True\n",
      "rec_id: J3D6Q83SUO, actual_name: Fatima Zahra Mansouri, best_match_name: Fatima Zahra Mansouri, match_result: True\n",
      "rec_id: 3GHXFOJQ2L, actual_name: Liam O'Brien, best_match_name: Lara van den Berg, match_result: False\n",
      "rec_id: W9Z4GUIV4K, actual_name: Hiroshi Nakamura, best_match_name: Lara van den Berg, match_result: False\n",
      "rec_id: E1I3Y679E0, actual_name: Elias Svensson, best_match_name: Elias Svensson, match_result: True\n",
      "rec_id: DX7RS4N7IC, actual_name: Noah Zimmerman, best_match_name: Fatima Zahra Mansouri, match_result: False\n",
      "rec_id: ZGZHPG1TS8, actual_name: Finn Murphy, best_match_name: Finn Murphy, match_result: True\n",
      "rec_id: EMW8PK5F2G, actual_name: Santiago Rivera, best_match_name: Lara van den Berg, match_result: False\n",
      "rec_id: WGXR3ONJFH, actual_name: Finn Murphy, best_match_name: Charlotte Leclerc, match_result: False\n",
      "rec_id: BDMI3ZXH0S, actual_name: Charlotte Leclerc, best_match_name: Charlotte Leclerc, match_result: True\n",
      "rec_id: MG1JCLM1X9, actual_name: Jorge Castillo, best_match_name: Charlotte Leclerc, match_result: False\n",
      "rec_id: ISDFCVKRVC, actual_name: Isabella Rossi, best_match_name: Mia Anderson, match_result: False\n",
      "rec_id: 25LY8GI6DE, actual_name: Sofia Almeida, best_match_name: Lara van den Berg, match_result: False\n",
      "rec_id: W102PRJ7LH, actual_name: Hiroshi Nakamura, best_match_name: Noah Zimmerman, match_result: False\n",
      "rec_id: DO2T6GX0CO, actual_name: Amina Kouri, best_match_name: Charlotte Leclerc, match_result: False\n",
      "rec_id: 1BNKNECJRU, actual_name: Isabella Rossi, best_match_name: Isabella Rossi, match_result: True\n",
      "rec_id: U2OWHF9C2M, actual_name: Kai Løkke, best_match_name: Kai Løkke, match_result: True\n",
      "rec_id: CVQ1Z7EQVZ, actual_name: Elena Popova, best_match_name: Elena Popova, match_result: True\n",
      "rec_id: SJ75YFI4ET, actual_name: Finn Murphy, best_match_name: Kai Løkke, match_result: False\n",
      "rec_id: WSYP46INU1, actual_name: Isabella Rossi, best_match_name: Charlotte Leclerc, match_result: False\n",
      "rec_id: GMGML0EULU, actual_name: Olivia Tremblay, best_match_name: Charlotte Leclerc, match_result: False\n",
      "rec_id: 10M5MCMSO3, actual_name: Anika Patel, best_match_name: Lara van den Berg, match_result: False\n",
      "rec_id: DK89JDSW3X, actual_name: Elena Popova, best_match_name: Elena Popova, match_result: True\n",
      "rec_id: XATHQAOSPE, actual_name: Fatima Zahra Mansouri, best_match_name: Fatima Zahra Mansouri, match_result: True\n",
      "rec_id: 8EDWFJG35I, actual_name: Elias Svensson, best_match_name: Elias Svensson, match_result: True\n",
      "rec_id: JXJS69ZN5Z, actual_name: Anika Patel, best_match_name: Hiroshi Nakamura, match_result: False\n",
      "rec_id: HEHXM9668B, actual_name: Noah Zimmerman, best_match_name: Isabella Rossi, match_result: False\n",
      "rec_id: U73VXHISZY, actual_name: Finn Murphy, best_match_name: Lara van den Berg, match_result: False\n",
      "rec_id: JQCJPH64SW, actual_name: Amina Kouri, best_match_name: Amina Kouri, match_result: True\n",
      "rec_id: YLGDVW6WCT, actual_name: Hiroshi Nakamura, best_match_name: Lara van den Berg, match_result: False\n",
      "rec_id: GZZWB0E3AX, actual_name: Charlotte Leclerc, best_match_name: Charlotte Leclerc, match_result: True\n",
      "rec_id: WDZIHM70NH, actual_name: Charlotte Leclerc, best_match_name: Charlotte Leclerc, match_result: True\n",
      "rec_id: ZVM6ABNSS1, actual_name: Amina Kouri, best_match_name: Finn Murphy, match_result: False\n",
      "rec_id: JWSBZ4LZRX, actual_name: Fatima Zahra Mansouri, best_match_name: Seo-yun Kim, match_result: False\n",
      "rec_id: 75UEPXC0IW, actual_name: Noah Zimmerman, best_match_name: Noah Zimmerman, match_result: True\n",
      "rec_id: L7EFGCOAD0, actual_name: Fatima Zahra Mansouri, best_match_name: Fatima Zahra Mansouri, match_result: True\n",
      "rec_id: 1PSFC9GSK4, actual_name: Santiago Rivera, best_match_name: Chen Wei, match_result: False\n",
      "rec_id: 27FYVYRXHC, actual_name: Mia Anderson, best_match_name: Mia Anderson, match_result: True\n",
      "rec_id: 72K6TSQ829, actual_name: Finn Murphy, best_match_name: Charlotte Leclerc, match_result: False\n",
      "rec_id: 1Z2W0U9OU8, actual_name: Lara van den Berg, best_match_name: Lara van den Berg, match_result: True\n",
      "rec_id: 4LVFXVFAI5, actual_name: Lara van den Berg, best_match_name: Lara van den Berg, match_result: True\n",
      "rec_id: 6W52WZKXOC, actual_name: Lara van den Berg, best_match_name: Lara van den Berg, match_result: True\n",
      "rec_id: V1Q3EL4Z4X, actual_name: Elena Popova, best_match_name: Charlotte Leclerc, match_result: False\n",
      "rec_id: Y285MKKJ4J, actual_name: Elias Svensson, best_match_name: Elias Svensson, match_result: True\n",
      "rec_id: UTFYOXUEPH, actual_name: Fatima Zahra Mansouri, best_match_name: Seo-yun Kim, match_result: False\n",
      "rec_id: EGTMM9VP8Z, actual_name: Noah Zimmerman, best_match_name: Lara van den Berg, match_result: False\n",
      "rec_id: 221Y2P3R9J, actual_name: Mia Anderson, best_match_name: Olivia Tremblay, match_result: False\n",
      "rec_id: 514WEKM9US, actual_name: Amina Kouri, best_match_name: Santiago Rivera, match_result: False\n",
      "rec_id: BJ53WB0WQB, actual_name: Chen Wei, best_match_name: Chen Wei, match_result: True\n",
      "rec_id: TC1N3OMAN3, actual_name: Seo-yun Kim, best_match_name: Hiroshi Nakamura, match_result: False\n",
      "rec_id: OW6VLRXPJT, actual_name: Elena Popova, best_match_name: Charlotte Leclerc, match_result: False\n",
      "rec_id: O0DETC0XV6, actual_name: Santiago Rivera, best_match_name: Chen Wei, match_result: False\n",
      "rec_id: QJ2T20DZCY, actual_name: Olivia Tremblay, best_match_name: Sofia Almeida, match_result: False\n",
      "rec_id: ZZNLOGOUC9, actual_name: Elena Popova, best_match_name: Charlotte Leclerc, match_result: False\n",
      "rec_id: FW71CH9KIC, actual_name: Hiroshi Nakamura, best_match_name: Hiroshi Nakamura, match_result: True\n",
      "rec_id: Y5K92G0CA2, actual_name: Noah Zimmerman, best_match_name: Isabella Rossi, match_result: False\n",
      "rec_id: S8XIWIEA2H, actual_name: Liam O'Brien, best_match_name: Anika Patel, match_result: False\n",
      "rec_id: 56K4DSES6F, actual_name: Kai Løkke, best_match_name: Lara van den Berg, match_result: False\n",
      "rec_id: J2KO453ZT9, actual_name: Jorge Castillo, best_match_name: Charlotte Leclerc, match_result: False\n",
      "rec_id: 4UYWOVMYD9, actual_name: Amina Kouri, best_match_name: Charlotte Leclerc, match_result: False\n",
      "rec_id: MA1CKK4XZH, actual_name: Jorge Castillo, best_match_name: Jorge Castillo, match_result: True\n",
      "rec_id: 1KMDDIB0WA, actual_name: Noah Zimmerman, best_match_name: Lara van den Berg, match_result: False\n",
      "rec_id: 6TQ8WY1A1T, actual_name: Seo-yun Kim, best_match_name: Hiroshi Nakamura, match_result: False\n",
      "rec_id: 541T0I3AUW, actual_name: Sofia Almeida, best_match_name: Lara van den Berg, match_result: False\n",
      "rec_id: F68PGID9TU, actual_name: Fatima Zahra Mansouri, best_match_name: Hiroshi Nakamura, match_result: False\n",
      "rec_id: FGQ1PL8LA6, actual_name: Finn Murphy, best_match_name: Jorge Castillo, match_result: False\n",
      "rec_id: GINYUH6NU7, actual_name: Elena Popova, best_match_name: Elena Popova, match_result: True\n",
      "rec_id: 5U8NHGADRR, actual_name: Fatima Zahra Mansouri, best_match_name: Fatima Zahra Mansouri, match_result: True\n",
      "rec_id: HB5IYNTKK9, actual_name: Santiago Rivera, best_match_name: Lara van den Berg, match_result: False\n",
      "rec_id: PR9SD61V3D, actual_name: Hiroshi Nakamura, best_match_name: Hiroshi Nakamura, match_result: True\n",
      "rec_id: FJYXJHG2KM, actual_name: Olivia Tremblay, best_match_name: Olivia Tremblay, match_result: True\n",
      "rec_id: 3TUKKW5GXO, actual_name: Anika Patel, best_match_name: Anika Patel, match_result: True\n",
      "rec_id: 915QHB8GME, actual_name: Olivia Tremblay, best_match_name: Olivia Tremblay, match_result: True\n",
      "rec_id: VLGVUDJ90Q, actual_name: Liam O'Brien, best_match_name: Lara van den Berg, match_result: False\n",
      "rec_id: BZMVM7UDDC, actual_name: Anika Patel, best_match_name: Anika Patel, match_result: True\n",
      "rec_id: 5B0N0KF0OZ, actual_name: Seo-yun Kim, best_match_name: Hiroshi Nakamura, match_result: False\n",
      "rec_id: 6G186D1H5K, actual_name: Isabella Rossi, best_match_name: Mia Anderson, match_result: False\n",
      "rec_id: Y0SQ3LTXI3, actual_name: Charlotte Leclerc, best_match_name: Charlotte Leclerc, match_result: True\n",
      "rec_id: DKTQZASTB9, actual_name: Elena Popova, best_match_name: Elena Popova, match_result: True\n",
      "rec_id: RSQQ5YEC8W, actual_name: Charlotte Leclerc, best_match_name: Charlotte Leclerc, match_result: True\n",
      "rec_id: P1BEOYNKDF, actual_name: Finn Murphy, best_match_name: Finn Murphy, match_result: True\n",
      "rec_id: 2B68X3TLPO, actual_name: Sofia Almeida, best_match_name: Elias Svensson, match_result: False\n",
      "rec_id: AIQPXRJKF7, actual_name: Chen Wei, best_match_name: Lara van den Berg, match_result: False\n",
      "rec_id: 32LZR8ZQYK, actual_name: Sofia Almeida, best_match_name: Lara van den Berg, match_result: False\n",
      "rec_id: 9HFS33L9CI, actual_name: Sofia Almeida, best_match_name: Elias Svensson, match_result: False\n",
      "rec_id: 072VW2DTHZ, actual_name: Seo-yun Kim, best_match_name: Lara van den Berg, match_result: False\n",
      "rec_id: BO81DNUC98, actual_name: Liam O'Brien, best_match_name: Lara van den Berg, match_result: False\n",
      "rec_id: XEA040Q8N9, actual_name: Noah Zimmerman, best_match_name: Lara van den Berg, match_result: False\n",
      "rec_id: 3GUM6SI9RE, actual_name: Liam O'Brien, best_match_name: Liam O'Brien, match_result: True\n",
      "rec_id: MWT70NTC17, actual_name: Santiago Rivera, best_match_name: Santiago Rivera, match_result: True\n",
      "rec_id: R3SUR0CZW3, actual_name: Hiroshi Nakamura, best_match_name: Noah Zimmerman, match_result: False\n",
      "rec_id: K681L5OQ3R, actual_name: Elias Svensson, best_match_name: Lara van den Berg, match_result: False\n",
      "rec_id: GAJOY10X4A, actual_name: Elias Svensson, best_match_name: Lara van den Berg, match_result: False\n",
      "rec_id: S35MFASKLA, actual_name: Anika Patel, best_match_name: Anika Patel, match_result: True\n",
      "rec_id: XV45S85AXQ, actual_name: Noah Zimmerman, best_match_name: Isabella Rossi, match_result: False\n",
      "rec_id: JBX7H4T33L, actual_name: Hiroshi Nakamura, best_match_name: Noah Zimmerman, match_result: False\n",
      "rec_id: JRDBXRBEZ5, actual_name: Olivia Tremblay, best_match_name: Charlotte Leclerc, match_result: False\n",
      "rec_id: VKDMNUUZX2, actual_name: Isabella Rossi, best_match_name: Isabella Rossi, match_result: True\n",
      "rec_id: FPMY3OD663, actual_name: Amina Kouri, best_match_name: Finn Murphy, match_result: False\n",
      "rec_id: 6QOZ04UI5X, actual_name: Hiroshi Nakamura, best_match_name: Lara van den Berg, match_result: False\n",
      "rec_id: 2IM42LTT5R, actual_name: Isabella Rossi, best_match_name: Isabella Rossi, match_result: True\n",
      "rec_id: F0X097QL8I, actual_name: Elias Svensson, best_match_name: Fatima Zahra Mansouri, match_result: False\n",
      "rec_id: 9YJUUID3DV, actual_name: Amina Kouri, best_match_name: Amina Kouri, match_result: True\n",
      "rec_id: 0D2XANLNWB, actual_name: Kai Løkke, best_match_name: Jorge Castillo, match_result: False\n",
      "rec_id: FA79Q4F0H0, actual_name: Liam O'Brien, best_match_name: Anika Patel, match_result: False\n",
      "rec_id: 5KLHR74OI0, actual_name: Charlotte Leclerc, best_match_name: Charlotte Leclerc, match_result: True\n",
      "rec_id: IAGY5YUR9E, actual_name: Chen Wei, best_match_name: Lara van den Berg, match_result: False\n",
      "rec_id: TKWJHEYRLP, actual_name: Lara van den Berg, best_match_name: Finn Murphy, match_result: False\n",
      "rec_id: T3NR1G1FFR, actual_name: Sofia Almeida, best_match_name: Lara van den Berg, match_result: False\n",
      "rec_id: 1M8238T2AW, actual_name: Jorge Castillo, best_match_name: Jorge Castillo, match_result: True\n",
      "rec_id: KICNKIP98W, actual_name: Seo-yun Kim, best_match_name: Hiroshi Nakamura, match_result: False\n",
      "rec_id: Y6K2JU2H4B, actual_name: Mia Anderson, best_match_name: Mia Anderson, match_result: True\n",
      "rec_id: ZPBG7LTFP7, actual_name: Santiago Rivera, best_match_name: Lara van den Berg, match_result: False\n",
      "rec_id: QB8U1CAEOV, actual_name: Kai Løkke, best_match_name: Charlotte Leclerc, match_result: False\n",
      "rec_id: 6W361V5VV9, actual_name: Anika Patel, best_match_name: Anika Patel, match_result: True\n",
      "rec_id: DDDN8ANJT0, actual_name: Sofia Almeida, best_match_name: Sofia Almeida, match_result: True\n",
      "rec_id: ASLJ66JRJL, actual_name: Liam O'Brien, best_match_name: Lara van den Berg, match_result: False\n",
      "rec_id: R18W797V9Q, actual_name: Liam O'Brien, best_match_name: Liam O'Brien, match_result: True\n",
      "rec_id: JXZMWLFM1N, actual_name: Mia Anderson, best_match_name: Mia Anderson, match_result: True\n",
      "rec_id: KF2U0T542I, actual_name: Chen Wei, best_match_name: Lara van den Berg, match_result: False\n",
      "rec_id: G2LC5CGD8K, actual_name: Fatima Zahra Mansouri, best_match_name: Fatima Zahra Mansouri, match_result: True\n",
      "rec_id: Z2UAISMWW6, actual_name: Noah Zimmerman, best_match_name: Isabella Rossi, match_result: False\n",
      "rec_id: 7OYEBPQERQ, actual_name: Fatima Zahra Mansouri, best_match_name: Fatima Zahra Mansouri, match_result: True\n",
      "rec_id: NSIOUFFN5C, actual_name: Amina Kouri, best_match_name: Charlotte Leclerc, match_result: False\n",
      "rec_id: OWH38MT8MT, actual_name: Santiago Rivera, best_match_name: Lara van den Berg, match_result: False\n",
      "rec_id: HBDLHYEA1L, actual_name: Olivia Tremblay, best_match_name: Sofia Almeida, match_result: False\n",
      "rec_id: FVRJD27CDC, actual_name: Olivia Tremblay, best_match_name: Sofia Almeida, match_result: False\n",
      "rec_id: K48DV4C50M, actual_name: Isabella Rossi, best_match_name: Charlotte Leclerc, match_result: False\n",
      "rec_id: NYCGDNV50A, actual_name: Lara van den Berg, best_match_name: Lara van den Berg, match_result: True\n",
      "rec_id: P4TDYTUQNV, actual_name: Elena Popova, best_match_name: Charlotte Leclerc, match_result: False\n",
      "rec_id: L7C6MV0Z84, actual_name: Fatima Zahra Mansouri, best_match_name: Fatima Zahra Mansouri, match_result: True\n",
      "rec_id: DTU78DE6VZ, actual_name: Lara van den Berg, best_match_name: Lara van den Berg, match_result: True\n",
      "rec_id: UECHV0PJQU, actual_name: Jorge Castillo, best_match_name: Jorge Castillo, match_result: True\n",
      "rec_id: O56IYAJKOQ, actual_name: Finn Murphy, best_match_name: Lara van den Berg, match_result: False\n",
      "rec_id: N1X635B5Z9, actual_name: Anika Patel, best_match_name: Lara van den Berg, match_result: False\n",
      "rec_id: 0GO9BNG5JC, actual_name: Lara van den Berg, best_match_name: Lara van den Berg, match_result: True\n",
      "rec_id: GMEGHRIW0J, actual_name: Liam O'Brien, best_match_name: Lara van den Berg, match_result: False\n",
      "rec_id: ZM64YPV8OX, actual_name: Santiago Rivera, best_match_name: Chen Wei, match_result: False\n",
      "rec_id: C5YK4RN57W, actual_name: Elias Svensson, best_match_name: Fatima Zahra Mansouri, match_result: False\n",
      "rec_id: 2TT75RT0RO, actual_name: Anika Patel, best_match_name: Fatima Zahra Mansouri, match_result: False\n",
      "rec_id: ITIM1J0WSF, actual_name: Anika Patel, best_match_name: Lara van den Berg, match_result: False\n",
      "rec_id: KMBK3UC6PC, actual_name: Elias Svensson, best_match_name: Fatima Zahra Mansouri, match_result: False\n",
      "rec_id: 7I09698RMP, actual_name: Liam O'Brien, best_match_name: Lara van den Berg, match_result: False\n",
      "rec_id: 0ZKZ7CTPCO, actual_name: Isabella Rossi, best_match_name: Charlotte Leclerc, match_result: False\n",
      "rec_id: AM3UVRYGAU, actual_name: Jorge Castillo, best_match_name: Jorge Castillo, match_result: True\n",
      "rec_id: MMPJO0MZ0N, actual_name: Jorge Castillo, best_match_name: Jorge Castillo, match_result: True\n",
      "rec_id: N44HQ30PQE, actual_name: Mia Anderson, best_match_name: Lara van den Berg, match_result: False\n",
      "rec_id: S0G2JOY8VT, actual_name: Lara van den Berg, best_match_name: Lara van den Berg, match_result: True\n",
      "rec_id: 27098TXSI3, actual_name: Finn Murphy, best_match_name: Finn Murphy, match_result: True\n",
      "rec_id: XI3FSQ31EF, actual_name: Chen Wei, best_match_name: Elena Popova, match_result: False\n",
      "rec_id: 10MOX4IMD7, actual_name: Olivia Tremblay, best_match_name: Sofia Almeida, match_result: False\n",
      "rec_id: GP7GTLRONW, actual_name: Seo-yun Kim, best_match_name: Hiroshi Nakamura, match_result: False\n",
      "rec_id: ZBKI0P43EK, actual_name: Hiroshi Nakamura, best_match_name: Hiroshi Nakamura, match_result: True\n",
      "rec_id: 0RASQ7TQKJ, actual_name: Jorge Castillo, best_match_name: Jorge Castillo, match_result: True\n",
      "rec_id: QX9N1VDFJJ, actual_name: Amina Kouri, best_match_name: Finn Murphy, match_result: False\n",
      "rec_id: 4REKDG0V64, actual_name: Santiago Rivera, best_match_name: Lara van den Berg, match_result: False\n",
      "rec_id: L4I0OY5T07, actual_name: Santiago Rivera, best_match_name: Charlotte Leclerc, match_result: False\n",
      "rec_id: 35UVJCB74Q, actual_name: Elena Popova, best_match_name: Elena Popova, match_result: True\n",
      "rec_id: IB795LJI77, actual_name: Hiroshi Nakamura, best_match_name: Hiroshi Nakamura, match_result: True\n",
      "rec_id: A2X1RKUMID, actual_name: Olivia Tremblay, best_match_name: Olivia Tremblay, match_result: True\n",
      "rec_id: QI3IGYH5L4, actual_name: Liam O'Brien, best_match_name: Lara van den Berg, match_result: False\n",
      "rec_id: HBY762ULBC, actual_name: Jorge Castillo, best_match_name: Jorge Castillo, match_result: True\n",
      "rec_id: L7GJ5TTDYK, actual_name: Elena Popova, best_match_name: Liam O'Brien, match_result: False\n",
      "rec_id: A3B4QBVRXQ, actual_name: Isabella Rossi, best_match_name: Lara van den Berg, match_result: False\n",
      "rec_id: P2YCAPIMT8, actual_name: Elena Popova, best_match_name: Liam O'Brien, match_result: False\n",
      "rec_id: TFREKW8N0X, actual_name: Kai Løkke, best_match_name: Charlotte Leclerc, match_result: False\n",
      "rec_id: QR1QDMLAXQ, actual_name: Hiroshi Nakamura, best_match_name: Lara van den Berg, match_result: False\n",
      "rec_id: 4KEPG8K8NX, actual_name: Chen Wei, best_match_name: Chen Wei, match_result: True\n",
      "rec_id: PYVE80HN4Y, actual_name: Anika Patel, best_match_name: Hiroshi Nakamura, match_result: False\n",
      "rec_id: SYQYA98A3O, actual_name: Chen Wei, best_match_name: Chen Wei, match_result: True\n",
      "rec_id: GE90UVYAIC, actual_name: Chen Wei, best_match_name: Lara van den Berg, match_result: False\n",
      "rec_id: L54SD4SCXE, actual_name: Liam O'Brien, best_match_name: Liam O'Brien, match_result: True\n",
      "rec_id: 8ZP0P6EA2V, actual_name: Santiago Rivera, best_match_name: Lara van den Berg, match_result: False\n",
      "rec_id: 1H1SA1OIYA, actual_name: Fatima Zahra Mansouri, best_match_name: Fatima Zahra Mansouri, match_result: True\n",
      "rec_id: XXGLDEB0PE, actual_name: Noah Zimmerman, best_match_name: Noah Zimmerman, match_result: True\n",
      "rec_id: ZRFQJ78VMK, actual_name: Noah Zimmerman, best_match_name: Lara van den Berg, match_result: False\n",
      "rec_id: 3CLTHAJWT5, actual_name: Kai Løkke, best_match_name: Charlotte Leclerc, match_result: False\n",
      "rec_id: 9QO189PLWT, actual_name: Seo-yun Kim, best_match_name: Hiroshi Nakamura, match_result: False\n",
      "rec_id: 7TW6HKDNII, actual_name: Noah Zimmerman, best_match_name: Lara van den Berg, match_result: False\n",
      "rec_id: U31ZKRHJ9K, actual_name: Mia Anderson, best_match_name: Mia Anderson, match_result: True\n",
      "rec_id: AOPBZ7X6AE, actual_name: Anika Patel, best_match_name: Anika Patel, match_result: True\n",
      "rec_id: B5PN7WKKMI, actual_name: Elias Svensson, best_match_name: Lara van den Berg, match_result: False\n",
      "rec_id: PASOTPBNLM, actual_name: Amina Kouri, best_match_name: Amina Kouri, match_result: True\n",
      "rec_id: VAUS6D0S3K, actual_name: Jorge Castillo, best_match_name: Charlotte Leclerc, match_result: False\n",
      "rec_id: LIZ88MPJYN, actual_name: Finn Murphy, best_match_name: Finn Murphy, match_result: True\n",
      "rec_id: Q7QQE54CKS, actual_name: Olivia Tremblay, best_match_name: Charlotte Leclerc, match_result: False\n",
      "rec_id: ZCB53KC2PC, actual_name: Sofia Almeida, best_match_name: Sofia Almeida, match_result: True\n",
      "rec_id: 51RBYSZVEY, actual_name: Kai Løkke, best_match_name: Kai Løkke, match_result: True\n",
      "rec_id: 06B9H4N6NV, actual_name: Santiago Rivera, best_match_name: Lara van den Berg, match_result: False\n",
      "rec_id: 0P2ZQ4BASS, actual_name: Sofia Almeida, best_match_name: Lara van den Berg, match_result: False\n",
      "rec_id: AXZKAINTK1, actual_name: Kai Løkke, best_match_name: Charlotte Leclerc, match_result: False\n",
      "rec_id: 6WFZ2WDJ24, actual_name: Seo-yun Kim, best_match_name: Seo-yun Kim, match_result: True\n",
      "rec_id: JBZJ2LV64J, actual_name: Amina Kouri, best_match_name: Amina Kouri, match_result: True\n",
      "rec_id: TQT94705R0, actual_name: Sofia Almeida, best_match_name: Lara van den Berg, match_result: False\n",
      "rec_id: GW74P8SAKY, actual_name: Sofia Almeida, best_match_name: Sofia Almeida, match_result: True\n",
      "rec_id: 8R488ER0ZH, actual_name: Jorge Castillo, best_match_name: Charlotte Leclerc, match_result: False\n",
      "rec_id: 5PK8DKP0ZZ, actual_name: Chen Wei, best_match_name: Elena Popova, match_result: False\n",
      "rec_id: WOY6M7Y3D8, actual_name: Santiago Rivera, best_match_name: Santiago Rivera, match_result: True\n",
      "rec_id: XZUKKHWKB8, actual_name: Hiroshi Nakamura, best_match_name: Hiroshi Nakamura, match_result: True\n",
      "rec_id: 9PS130EZ8T, actual_name: Finn Murphy, best_match_name: Charlotte Leclerc, match_result: False\n",
      "rec_id: GQDKZ8GJ7O, actual_name: Lara van den Berg, best_match_name: Finn Murphy, match_result: False\n",
      "rec_id: 88LIKKIYG5, actual_name: Amina Kouri, best_match_name: Amina Kouri, match_result: True\n",
      "rec_id: LDWU4KBNIS, actual_name: Finn Murphy, best_match_name: Finn Murphy, match_result: True\n",
      "rec_id: M97BEZCB1V, actual_name: Santiago Rivera, best_match_name: Chen Wei, match_result: False\n",
      "rec_id: BWGSZNP0LF, actual_name: Lara van den Berg, best_match_name: Lara van den Berg, match_result: True\n",
      "rec_id: 4OZB2350T9, actual_name: Finn Murphy, best_match_name: Kai Løkke, match_result: False\n",
      "rec_id: 65YME8J8IE, actual_name: Amina Kouri, best_match_name: Santiago Rivera, match_result: False\n",
      "rec_id: FG1GU97VU5, actual_name: Hiroshi Nakamura, best_match_name: Lara van den Berg, match_result: False\n",
      "rec_id: HXK7RUM68N, actual_name: Charlotte Leclerc, best_match_name: Amina Kouri, match_result: False\n",
      "rec_id: O7O51MZU4N, actual_name: Fatima Zahra Mansouri, best_match_name: Fatima Zahra Mansouri, match_result: True\n",
      "rec_id: KXGWXZQU8N, actual_name: Charlotte Leclerc, best_match_name: Charlotte Leclerc, match_result: True\n",
      "rec_id: YAAYBNPNBF, actual_name: Olivia Tremblay, best_match_name: Charlotte Leclerc, match_result: False\n",
      "rec_id: T83G4QLO49, actual_name: Anika Patel, best_match_name: Lara van den Berg, match_result: False\n",
      "rec_id: 244F8XZK0E, actual_name: Kai Løkke, best_match_name: Kai Løkke, match_result: True\n",
      "rec_id: 6A0ZBCDFGV, actual_name: Jorge Castillo, best_match_name: Jorge Castillo, match_result: True\n",
      "rec_id: NLOAVVNSZ2, actual_name: Amina Kouri, best_match_name: Finn Murphy, match_result: False\n",
      "rec_id: 66420YSP5M, actual_name: Seo-yun Kim, best_match_name: Hiroshi Nakamura, match_result: False\n",
      "rec_id: XUOU6FH2DR, actual_name: Santiago Rivera, best_match_name: Lara van den Berg, match_result: False\n",
      "rec_id: QPHXKP30BG, actual_name: Fatima Zahra Mansouri, best_match_name: Fatima Zahra Mansouri, match_result: True\n",
      "rec_id: X4ASJ6RLN6, actual_name: Elena Popova, best_match_name: Liam O'Brien, match_result: False\n",
      "rec_id: ZKY5P7R745, actual_name: Elena Popova, best_match_name: Liam O'Brien, match_result: False\n",
      "rec_id: H89EKSBTZX, actual_name: Anika Patel, best_match_name: Lara van den Berg, match_result: False\n",
      "rec_id: 76X65A5PP1, actual_name: Mia Anderson, best_match_name: Olivia Tremblay, match_result: False\n",
      "rec_id: GEDG42ENGM, actual_name: Anika Patel, best_match_name: Hiroshi Nakamura, match_result: False\n",
      "rec_id: H2HPWO8E99, actual_name: Lara van den Berg, best_match_name: Lara van den Berg, match_result: True\n",
      "rec_id: MPPY809BIA, actual_name: Hiroshi Nakamura, best_match_name: Hiroshi Nakamura, match_result: True\n",
      "rec_id: WRGLR1OM65, actual_name: Sofia Almeida, best_match_name: Lara van den Berg, match_result: False\n",
      "rec_id: UX27Y1YUX4, actual_name: Finn Murphy, best_match_name: Lara van den Berg, match_result: False\n",
      "rec_id: FJDGLG7POQ, actual_name: Hiroshi Nakamura, best_match_name: Lara van den Berg, match_result: False\n",
      "rec_id: VWEQSW9GQY, actual_name: Elena Popova, best_match_name: Elena Popova, match_result: True\n",
      "rec_id: CBDX295MEZ, actual_name: Olivia Tremblay, best_match_name: Olivia Tremblay, match_result: True\n",
      "rec_id: KTG9DOE0M2, actual_name: Elena Popova, best_match_name: Elena Popova, match_result: True\n",
      "rec_id: 22LW1V963Y, actual_name: Kai Løkke, best_match_name: Kai Løkke, match_result: True\n",
      "rec_id: XPU9214EU6, actual_name: Anika Patel, best_match_name: Hiroshi Nakamura, match_result: False\n",
      "rec_id: FI3U0S0S6X, actual_name: Noah Zimmerman, best_match_name: Lara van den Berg, match_result: False\n",
      "rec_id: KO0PCC5TE8, actual_name: Noah Zimmerman, best_match_name: Noah Zimmerman, match_result: True\n",
      "rec_id: FSO4MWKKAR, actual_name: Elias Svensson, best_match_name: Elias Svensson, match_result: True\n",
      "rec_id: ECGD9KF3VX, actual_name: Elena Popova, best_match_name: Charlotte Leclerc, match_result: False\n",
      "rec_id: DWQX31MS3S, actual_name: Finn Murphy, best_match_name: Kai Løkke, match_result: False\n",
      "rec_id: GT37129NRX, actual_name: Charlotte Leclerc, best_match_name: Amina Kouri, match_result: False\n",
      "rec_id: XIB265Q1SJ, actual_name: Lara van den Berg, best_match_name: Lara van den Berg, match_result: True\n",
      "rec_id: XW6NK8Y9MH, actual_name: Anika Patel, best_match_name: Lara van den Berg, match_result: False\n",
      "rec_id: RDSE19HMCJ, actual_name: Elias Svensson, best_match_name: Lara van den Berg, match_result: False\n",
      "rec_id: 3866QSTGPQ, actual_name: Chen Wei, best_match_name: Lara van den Berg, match_result: False\n",
      "rec_id: DRAD23MMMA, actual_name: Chen Wei, best_match_name: Lara van den Berg, match_result: False\n",
      "rec_id: FNHZ7WDW7Y, actual_name: Seo-yun Kim, best_match_name: Hiroshi Nakamura, match_result: False\n",
      "rec_id: MIRV2AHSDH, actual_name: Santiago Rivera, best_match_name: Lara van den Berg, match_result: False\n",
      "rec_id: 5L4PYZ36G0, actual_name: Seo-yun Kim, best_match_name: Lara van den Berg, match_result: False\n",
      "rec_id: LTCZ1EWM5K, actual_name: Amina Kouri, best_match_name: Santiago Rivera, match_result: False\n",
      "rec_id: CG19UEJT4H, actual_name: Olivia Tremblay, best_match_name: Charlotte Leclerc, match_result: False\n",
      "rec_id: X09OXQUHX6, actual_name: Mia Anderson, best_match_name: Lara van den Berg, match_result: False\n",
      "rec_id: 1O4FGEX31T, actual_name: Elias Svensson, best_match_name: Elias Svensson, match_result: True\n",
      "rec_id: YQEUHTOP2I, actual_name: Sofia Almeida, best_match_name: Sofia Almeida, match_result: True\n",
      "rec_id: 9SKVMHKUAV, actual_name: Sofia Almeida, best_match_name: Elias Svensson, match_result: False\n",
      "rec_id: EK53ZI08W8, actual_name: Finn Murphy, best_match_name: Kai Løkke, match_result: False\n",
      "rec_id: L4214B2QPO, actual_name: Lara van den Berg, best_match_name: Lara van den Berg, match_result: True\n",
      "rec_id: 572K7GROWM, actual_name: Noah Zimmerman, best_match_name: Lara van den Berg, match_result: False\n",
      "rec_id: 421BPRLP1H, actual_name: Charlotte Leclerc, best_match_name: Charlotte Leclerc, match_result: True\n",
      "rec_id: W8ENISIETU, actual_name: Mia Anderson, best_match_name: Mia Anderson, match_result: True\n",
      "rec_id: 0D8CAOL7XN, actual_name: Olivia Tremblay, best_match_name: Charlotte Leclerc, match_result: False\n",
      "rec_id: UDTA6SHXDI, actual_name: Amina Kouri, best_match_name: Santiago Rivera, match_result: False\n",
      "rec_id: BN764APWDT, actual_name: Liam O'Brien, best_match_name: Lara van den Berg, match_result: False\n",
      "rec_id: YPME5D9Q5F, actual_name: Liam O'Brien, best_match_name: Liam O'Brien, match_result: True\n",
      "rec_id: 6MKIUXJ6CQ, actual_name: Jorge Castillo, best_match_name: Jorge Castillo, match_result: True\n",
      "rec_id: O8W3DPZC0U, actual_name: Liam O'Brien, best_match_name: Lara van den Berg, match_result: False\n",
      "rec_id: R3TKLL4WU1, actual_name: Mia Anderson, best_match_name: Olivia Tremblay, match_result: False\n",
      "rec_id: 1QJIZTDX38, actual_name: Olivia Tremblay, best_match_name: Olivia Tremblay, match_result: True\n",
      "rec_id: SUGHP6NLPK, actual_name: Mia Anderson, best_match_name: Lara van den Berg, match_result: False\n",
      "rec_id: XKG8C7QFXT, actual_name: Amina Kouri, best_match_name: Seo-yun Kim, match_result: False\n",
      "rec_id: YE18FH0BFU, actual_name: Charlotte Leclerc, best_match_name: Charlotte Leclerc, match_result: True\n",
      "rec_id: E8W0PTQ9KC, actual_name: Lara van den Berg, best_match_name: Lara van den Berg, match_result: True\n",
      "rec_id: 21BT3ARI08, actual_name: Isabella Rossi, best_match_name: Charlotte Leclerc, match_result: False\n",
      "rec_id: BK38HX9NS4, actual_name: Lara van den Berg, best_match_name: Lara van den Berg, match_result: True\n",
      "rec_id: Y00KJWDL6W, actual_name: Jorge Castillo, best_match_name: Jorge Castillo, match_result: True\n",
      "rec_id: 7A8PVRXFLV, actual_name: Jorge Castillo, best_match_name: Jorge Castillo, match_result: True\n",
      "rec_id: XUO9R4GLWS, actual_name: Chen Wei, best_match_name: Chen Wei, match_result: True\n",
      "rec_id: 1JGXELMHOF, actual_name: Olivia Tremblay, best_match_name: Charlotte Leclerc, match_result: False\n",
      "rec_id: 6RMUDHJM4W, actual_name: Hiroshi Nakamura, best_match_name: Lara van den Berg, match_result: False\n",
      "rec_id: 6L88Z54PYV, actual_name: Elias Svensson, best_match_name: Lara van den Berg, match_result: False\n",
      "rec_id: OG64GZNSWE, actual_name: Seo-yun Kim, best_match_name: Seo-yun Kim, match_result: True\n",
      "rec_id: IH6195R5YX, actual_name: Charlotte Leclerc, best_match_name: Charlotte Leclerc, match_result: True\n",
      "rec_id: OFML4KZCAE, actual_name: Jorge Castillo, best_match_name: Jorge Castillo, match_result: True\n",
      "rec_id: GDLKIPE3CH, actual_name: Isabella Rossi, best_match_name: Isabella Rossi, match_result: True\n",
      "rec_id: LMFZ8A6OUU, actual_name: Isabella Rossi, best_match_name: Mia Anderson, match_result: False\n",
      "rec_id: RJ0VF3WCOB, actual_name: Mia Anderson, best_match_name: Lara van den Berg, match_result: False\n",
      "rec_id: 9OPVZ6VP7K, actual_name: Elias Svensson, best_match_name: Lara van den Berg, match_result: False\n",
      "rec_id: LXTGJ91STF, actual_name: Seo-yun Kim, best_match_name: Lara van den Berg, match_result: False\n",
      "rec_id: 12MINIG2V7, actual_name: Charlotte Leclerc, best_match_name: Charlotte Leclerc, match_result: True\n",
      "rec_id: 5CJ88FMSBA, actual_name: Fatima Zahra Mansouri, best_match_name: Fatima Zahra Mansouri, match_result: True\n",
      "rec_id: 7FPDGERPRV, actual_name: Jorge Castillo, best_match_name: Jorge Castillo, match_result: True\n",
      "rec_id: TQEMWEEP28, actual_name: Fatima Zahra Mansouri, best_match_name: Seo-yun Kim, match_result: False\n",
      "rec_id: 97NV00K4YA, actual_name: Amina Kouri, best_match_name: Charlotte Leclerc, match_result: False\n",
      "rec_id: N09DENCIJ3, actual_name: Isabella Rossi, best_match_name: Isabella Rossi, match_result: True\n",
      "rec_id: 27L7Y08ROR, actual_name: Santiago Rivera, best_match_name: Lara van den Berg, match_result: False\n",
      "rec_id: TDH5H2CF40, actual_name: Jorge Castillo, best_match_name: Jorge Castillo, match_result: True\n",
      "rec_id: D7ATV3H1YD, actual_name: Olivia Tremblay, best_match_name: Charlotte Leclerc, match_result: False\n",
      "rec_id: ROHDD0Z6CG, actual_name: Noah Zimmerman, best_match_name: Noah Zimmerman, match_result: True\n",
      "rec_id: IU50O8RY55, actual_name: Mia Anderson, best_match_name: Lara van den Berg, match_result: False\n",
      "rec_id: IEMF4VU2VH, actual_name: Charlotte Leclerc, best_match_name: Amina Kouri, match_result: False\n",
      "rec_id: RF3R75NCG7, actual_name: Olivia Tremblay, best_match_name: Charlotte Leclerc, match_result: False\n",
      "rec_id: 8HSVAQ716J, actual_name: Lara van den Berg, best_match_name: Elena Popova, match_result: False\n",
      "rec_id: RLL2WGXJRT, actual_name: Isabella Rossi, best_match_name: Charlotte Leclerc, match_result: False\n",
      "rec_id: C14AN35RKC, actual_name: Sofia Almeida, best_match_name: Sofia Almeida, match_result: True\n",
      "rec_id: JJT0E5G3ZB, actual_name: Mia Anderson, best_match_name: Lara van den Berg, match_result: False\n",
      "rec_id: XK7B8CDK0T, actual_name: Sofia Almeida, best_match_name: Sofia Almeida, match_result: True\n",
      "rec_id: HAN10YME1F, actual_name: Noah Zimmerman, best_match_name: Noah Zimmerman, match_result: True\n",
      "rec_id: IF73FAK84R, actual_name: Fatima Zahra Mansouri, best_match_name: Hiroshi Nakamura, match_result: False\n",
      "rec_id: HCCDN2TD0R, actual_name: Lara van den Berg, best_match_name: Lara van den Berg, match_result: True\n",
      "rec_id: EL568TREPD, actual_name: Charlotte Leclerc, best_match_name: Charlotte Leclerc, match_result: True\n",
      "rec_id: LO0F70NRDD, actual_name: Chen Wei, best_match_name: Lara van den Berg, match_result: False\n",
      "rec_id: G11VNYE1HH, actual_name: Anika Patel, best_match_name: Anika Patel, match_result: True\n",
      "rec_id: 5TKRD0UET0, actual_name: Fatima Zahra Mansouri, best_match_name: Seo-yun Kim, match_result: False\n",
      "rec_id: TEKJPG39QQ, actual_name: Chen Wei, best_match_name: Lara van den Berg, match_result: False\n",
      "rec_id: J0OF821KRS, actual_name: Chen Wei, best_match_name: Lara van den Berg, match_result: False\n",
      "rec_id: Q7WD8INZQ5, actual_name: Hiroshi Nakamura, best_match_name: Hiroshi Nakamura, match_result: True\n",
      "rec_id: RZ4FLK02QV, actual_name: Isabella Rossi, best_match_name: Isabella Rossi, match_result: True\n",
      "rec_id: JYA410BBKR, actual_name: Charlotte Leclerc, best_match_name: Charlotte Leclerc, match_result: True\n",
      "rec_id: LL7V1S0QG3, actual_name: Chen Wei, best_match_name: Chen Wei, match_result: True\n",
      "rec_id: F3AJRF7TJG, actual_name: Lara van den Berg, best_match_name: Finn Murphy, match_result: False\n",
      "rec_id: 9EY8WR8CDU, actual_name: Mia Anderson, best_match_name: Mia Anderson, match_result: True\n",
      "rec_id: N1WUHGN5J1, actual_name: Hiroshi Nakamura, best_match_name: Lara van den Berg, match_result: False\n",
      "rec_id: 2YD7E0JZWB, actual_name: Elena Popova, best_match_name: Charlotte Leclerc, match_result: False\n",
      "rec_id: CAJAINRPE5, actual_name: Chen Wei, best_match_name: Elena Popova, match_result: False\n",
      "rec_id: 8WTA54PGBC, actual_name: Mia Anderson, best_match_name: Lara van den Berg, match_result: False\n",
      "rec_id: 77C2EX0563, actual_name: Kai Løkke, best_match_name: Charlotte Leclerc, match_result: False\n",
      "rec_id: CZ35XEIQQL, actual_name: Seo-yun Kim, best_match_name: Seo-yun Kim, match_result: True\n",
      "rec_id: LWEWBT96XT, actual_name: Jorge Castillo, best_match_name: Jorge Castillo, match_result: True\n",
      "rec_id: Z3FNA3LKXY, actual_name: Santiago Rivera, best_match_name: Santiago Rivera, match_result: True\n",
      "rec_id: 0D9KDY33VL, actual_name: Charlotte Leclerc, best_match_name: Amina Kouri, match_result: False\n",
      "rec_id: R8ARFXA62G, actual_name: Anika Patel, best_match_name: Lara van den Berg, match_result: False\n",
      "rec_id: 1I8PRKICC1, actual_name: Kai Løkke, best_match_name: Charlotte Leclerc, match_result: False\n",
      "rec_id: BROW8BT8Y8, actual_name: Liam O'Brien, best_match_name: Liam O'Brien, match_result: True\n",
      "rec_id: VXC2DB72R7, actual_name: Isabella Rossi, best_match_name: Charlotte Leclerc, match_result: False\n",
      "rec_id: TBUUEZXSLP, actual_name: Liam O'Brien, best_match_name: Liam O'Brien, match_result: True\n",
      "rec_id: EF57WPNJAM, actual_name: Elias Svensson, best_match_name: Lara van den Berg, match_result: False\n",
      "rec_id: S71BHUO2FN, actual_name: Isabella Rossi, best_match_name: Charlotte Leclerc, match_result: False\n",
      "rec_id: JQ7FW67TJ8, actual_name: Liam O'Brien, best_match_name: Lara van den Berg, match_result: False\n",
      "rec_id: 4M2D4IB9S6, actual_name: Liam O'Brien, best_match_name: Anika Patel, match_result: False\n",
      "rec_id: AHQQ4HWF9Z, actual_name: Seo-yun Kim, best_match_name: Seo-yun Kim, match_result: True\n",
      "rec_id: U91VS1DG4X, actual_name: Kai Løkke, best_match_name: Kai Løkke, match_result: True\n",
      "rec_id: EFBZ19FLZB, actual_name: Hiroshi Nakamura, best_match_name: Noah Zimmerman, match_result: False\n",
      "rec_id: UR36VE8KU4, actual_name: Sofia Almeida, best_match_name: Elias Svensson, match_result: False\n",
      "rec_id: 7JPUCM4BHS, actual_name: Seo-yun Kim, best_match_name: Lara van den Berg, match_result: False\n",
      "rec_id: NPVTQJD50W, actual_name: Kai Løkke, best_match_name: Jorge Castillo, match_result: False\n",
      "rec_id: 45XXUUVBQU, actual_name: Chen Wei, best_match_name: Lara van den Berg, match_result: False\n",
      "rec_id: HCRK8WNTRJ, actual_name: Anika Patel, best_match_name: Charlotte Leclerc, match_result: False\n",
      "rec_id: A1LPGU21B5, actual_name: Olivia Tremblay, best_match_name: Olivia Tremblay, match_result: True\n",
      "rec_id: KZ3VCLL0J6, actual_name: Elias Svensson, best_match_name: Chen Wei, match_result: False\n",
      "rec_id: ZX4733CP7F, actual_name: Noah Zimmerman, best_match_name: Noah Zimmerman, match_result: True\n",
      "rec_id: 4USM1D1I1Q, actual_name: Amina Kouri, best_match_name: Amina Kouri, match_result: True\n",
      "rec_id: I1II0JEBC3, actual_name: Finn Murphy, best_match_name: Charlotte Leclerc, match_result: False\n",
      "rec_id: YZDT3ZMHJF, actual_name: Chen Wei, best_match_name: Lara van den Berg, match_result: False\n",
      "rec_id: YDDKTODLGX, actual_name: Fatima Zahra Mansouri, best_match_name: Fatima Zahra Mansouri, match_result: True\n"
     ]
    }
   ],
   "source": [
    "import os\n",
    "import numpy as np\n",
    "import pandas as pd\n",
    "import scipy.io.wavfile as wav\n",
    "from sklearn.mixture import GaussianMixture\n",
    "from python_speech_features import mfcc\n",
    "\n",
    "def extract_features(audio_path, trim_length=None):\n",
    "\tsr, y = wav.read(audio_path)\n",
    "\tif trim_length:\n",
    "\t\ty = y[:trim_length * sr]  # multiplying by sr to convert seconds to samples\n",
    "\tmfccs = mfcc(y, sr, numcep=100)\n",
    "\treturn mfccs\n",
    "\n",
    "def train_gmm(features, n_components=3):\n",
    "\tgmm = GaussianMixture(n_components=n_components)\n",
    "\tgmm.fit(features)\n",
    "\treturn gmm\n",
    "\n",
    "def load_and_process_audio(file_path):\n",
    "\tfeatures = extract_features(file_path)\n",
    "\treturn features\n",
    "\n",
    "def main():\n",
    "\t# Directory containing the training audio files\n",
    "\tdirectory = \"../../real_audio/\"\n",
    "\t# Load client profiles\n",
    "\tclient_profiles = pd.read_csv(\"../../../client_profiles/real_match_name.csv\")\n",
    "\t# Create a dictionary mapping rec_ids to file paths and client names\n",
    "\taudio_files = {row['rec_id']: (os.path.join(directory, row['rec_id'] + '.wav'), row['name'])\n",
    "\t\t\t\tfor _, row in client_profiles.iterrows() if os.path.isfile(os.path.join(directory, row['rec_id'] + '.wav'))}\n",
    "\n",
    "\tgmms = {}\n",
    "\tfor rec_id, (file_path, name) in audio_files.items():\n",
    "\t\tfeatures = load_and_process_audio(file_path)\n",
    "\t\tgmm = train_gmm(features)\n",
    "\t\tgmms[rec_id] = gmm\n",
    "\t#save gmms in src/impersonator/gmms.npy\n",
    "\t# np.save('gmms.npy', gmms)\n",
    "\n",
    "\t# Load matched results to compare\n",
    "\tmatched_results = pd.read_csv(\"filtered_matched_results.csv\")\n",
    "\n",
    "\t# Compare results\n",
    "\tresults = []\n",
    "\tdirectory = \"../../../audio_clips\"\n",
    "\tfor _, row in matched_results.iterrows():\n",
    "\t\trec_id = row['rec_id']\n",
    "\t\tactual_name = row['name']\n",
    "\t\t# Get the best match\n",
    "\t\tbest_match = None\n",
    "\t\tfeatures = load_and_process_audio(os.path.join(directory, rec_id + '.wav'))\n",
    "\t\tbest_score = -np.inf\n",
    "\t\tfor rec_id, gmm in gmms.items():\n",
    "\t\t\tscore = gmm.score(features)\n",
    "\t\t\tif score > best_score:\n",
    "\t\t\t\tbest_score = score\n",
    "\t\t\t\tbest_match = rec_id\n",
    "\t\trec_id = row['rec_id']\n",
    "\t\tprint(best_score)\n",
    "\t\tbest_match_name = audio_files[best_match][1]\n",
    "\t\tmatch_result = actual_name == best_match_name\n",
    "\t\tresults.append((rec_id, actual_name, best_match_name, match_result))\n",
    "\t\t# print(f\"Actual name: {actual_name}, Best match: {best_match_name}, Match result: {match_result}\")\n",
    "\n",
    "\n",
    "\tdf_results = pd.DataFrame(columns=['rec_id', 'is_impersonator'])\n",
    "\tfor rec_id, actual_name, best_match_name, match_result in results:\n",
    "\t\tprint(f\"rec_id: {rec_id}, actual_name: {actual_name}, best_match_name: {best_match_name}, match_result: {match_result}\")\n",
    "\t\tif match_result:\n",
    "\t\t\tdf_results = df_results._append({'rec_id': rec_id, 'is_impersonator': 0}, ignore_index=True)\n",
    "\t\telse:\n",
    "\t\t\tdf_results = df_results._append({'rec_id': rec_id, 'is_impersonator': 1}, ignore_index=True)\n",
    "\t#save results in src/impersonator/impersonator.csv\n",
    "\tdf_results.to_csv('src/impersonator/impersonator.csv', index=False)\n",
    "\n",
    "if __name__ == \"__main__\":\n",
    "\tmain()\n",
    "\n"
   ]
  }
 ],
 "metadata": {
  "kernelspec": {
   "display_name": "paddlespeech",
   "language": "python",
   "name": "python3"
  },
  "language_info": {
   "codemirror_mode": {
    "name": "ipython",
    "version": 3
   },
   "file_extension": ".py",
   "mimetype": "text/x-python",
   "name": "python",
   "nbconvert_exporter": "python",
   "pygments_lexer": "ipython3",
   "version": "3.10.14"
  }
 },
 "nbformat": 4,
 "nbformat_minor": 2
}
