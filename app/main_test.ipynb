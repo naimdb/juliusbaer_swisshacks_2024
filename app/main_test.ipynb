{
 "cells": [
  {
   "cell_type": "code",
   "execution_count": 14,
   "metadata": {},
   "outputs": [
    {
     "name": "stderr",
     "output_type": "stream",
     "text": [
      "/tmp/ipykernel_527954/2856506326.py:14: FutureWarning: Downcasting behavior in `replace` is deprecated and will be removed in a future version. To retain the old behavior, explicitly call `result.infer_objects(copy=False)`. To opt-in to the future behavior, set `pd.set_option('future.no_silent_downcasting', True)`\n",
      "  df = df.replace(0, False)\n"
     ]
    }
   ],
   "source": [
    "import pandas as pd\n",
    "import numpy as np\n",
    "\n",
    "is_false_df = pd.read_csv('src/fake/fake_results.csv')\n",
    "is_impersonator_df = pd.read_csv('src/impersonator/impersonator_results.csv')\n",
    "wrong_info_df = pd.read_csv('src/wrong_info/wrong_info_results.csv')\n",
    "\n",
    "#join the dataframes on rec_id left_join\n",
    "df = pd.merge(is_false_df, is_impersonator_df, on='rec_id', how='left')\n",
    "df = pd.merge(df, wrong_info_df, on='rec_id', how='left')\n",
    "\n",
    "#transform 1 in True and 0 in False\n",
    "df = df.replace(1, True)\n",
    "df = df.replace(0, False)\n",
    "df = df.replace(1.0, True)\n",
    "df = df.replace(0.0, False)\n",
    "\n",
    "#rename results to is_factually_correct\n",
    "df = df.rename(columns={\"result\": \"is_factually_correct\"})\n",
    "\n",
    "#save \n",
    "df.to_csv('les_detectives.csv', index=False)"
   ]
  }
 ],
 "metadata": {
  "kernelspec": {
   "display_name": "app",
   "language": "python",
   "name": "python3"
  },
  "language_info": {
   "codemirror_mode": {
    "name": "ipython",
    "version": 3
   },
   "file_extension": ".py",
   "mimetype": "text/x-python",
   "name": "python",
   "nbconvert_exporter": "python",
   "pygments_lexer": "ipython3",
   "version": "3.11.9"
  }
 },
 "nbformat": 4,
 "nbformat_minor": 2
}
